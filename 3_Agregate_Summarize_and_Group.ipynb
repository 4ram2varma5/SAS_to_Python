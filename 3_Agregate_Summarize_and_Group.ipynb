{
 "cells": [
  {
   "cell_type": "markdown",
   "metadata": {
    "collapsed": true
   },
   "source": [
    "# Agregate, Summarize and Group data\n",
    "\n",
    "> 1. Simple Agregations\n",
    "> - Group by \n",
    "> - Agg ()\n"
   ]
  },
  {
   "cell_type": "code",
   "execution_count": 1,
   "metadata": {
    "collapsed": true
   },
   "outputs": [],
   "source": [
    "#Import libraries\n",
    "from pandasql import sqldf #!pip install -U pandasql\n",
    "pysqldf = lambda q: sqldf(q, globals())\n",
    "from collections import Counter\n",
    "import pandas as pd #Pandas Lib\n",
    "import numpy as np  #NumPy Lib\n",
    "import matplotlib.pyplot as plt\n",
    "import urllib.request, json \n",
    "from IPython.display import display\n",
    "from IPython.display import Image"
   ]
  },
  {
   "cell_type": "code",
   "execution_count": 9,
   "metadata": {},
   "outputs": [],
   "source": [
    "url = \"https://data.medicare.gov/api/views/9n3s-kdb3/rows.csv?accessType=DOWNLOAD\" \n",
    "life = pd.read_csv(url)"
   ]
  },
  {
   "cell_type": "markdown",
   "metadata": {},
   "source": [
    "Let's read in our own data set from the plethora of data available on the Govt's website:\n",
    "*data owned and sourced from: https://www.data.gov/*"
   ]
  },
  {
   "cell_type": "code",
   "execution_count": 11,
   "metadata": {
    "scrolled": true
   },
   "outputs": [
    {
     "data": {
      "text/html": [
       "<div>\n",
       "<style scoped>\n",
       "    .dataframe tbody tr th:only-of-type {\n",
       "        vertical-align: middle;\n",
       "    }\n",
       "\n",
       "    .dataframe tbody tr th {\n",
       "        vertical-align: top;\n",
       "    }\n",
       "\n",
       "    .dataframe thead th {\n",
       "        text-align: right;\n",
       "    }\n",
       "</style>\n",
       "<table border=\"1\" class=\"dataframe\">\n",
       "  <thead>\n",
       "    <tr style=\"text-align: right;\">\n",
       "      <th></th>\n",
       "      <th>Hospital Name</th>\n",
       "      <th>Provider Number</th>\n",
       "      <th>State</th>\n",
       "      <th>Measure Name</th>\n",
       "      <th>Number of Discharges</th>\n",
       "      <th>Footnote</th>\n",
       "      <th>Excess Readmission Ratio</th>\n",
       "      <th>Predicted Readmission Rate</th>\n",
       "      <th>Expected Readmission Rate</th>\n",
       "      <th>Number of Readmissions</th>\n",
       "      <th>Start Date</th>\n",
       "      <th>End Date</th>\n",
       "    </tr>\n",
       "  </thead>\n",
       "  <tbody>\n",
       "    <tr>\n",
       "      <th>0</th>\n",
       "      <td>HIGHLANDS MEDICAL CENTER</td>\n",
       "      <td>10061</td>\n",
       "      <td>AL</td>\n",
       "      <td>READM-30-AMI-HRRP</td>\n",
       "      <td>Not Available</td>\n",
       "      <td>1.0</td>\n",
       "      <td>Not Available</td>\n",
       "      <td>Not Available</td>\n",
       "      <td>Not Available</td>\n",
       "      <td>Not Available</td>\n",
       "      <td>01-JUL-13</td>\n",
       "      <td>30-JUN-16</td>\n",
       "    </tr>\n",
       "  </tbody>\n",
       "</table>\n",
       "</div>"
      ],
      "text/plain": [
       "              Hospital Name  Provider Number State       Measure Name  \\\n",
       "0  HIGHLANDS MEDICAL CENTER            10061    AL  READM-30-AMI-HRRP   \n",
       "\n",
       "  Number of Discharges  Footnote Excess Readmission Ratio  \\\n",
       "0        Not Available       1.0            Not Available   \n",
       "\n",
       "  Predicted Readmission Rate Expected Readmission Rate Number of Readmissions  \\\n",
       "0              Not Available             Not Available          Not Available   \n",
       "\n",
       "  Start Date   End Date  \n",
       "0  01-JUL-13  30-JUN-16  "
      ]
     },
     "execution_count": 11,
     "metadata": {},
     "output_type": "execute_result"
    }
   ],
   "source": [
    "life.head(1) "
   ]
  },
  {
   "cell_type": "markdown",
   "metadata": {},
   "source": [
    "### 1. Simple Agregations\n",
    "\n",
    "We have already covered many of the topics in lessons 1 and 2. I have not given the SAS and SQL code in all examples becuase this is intuitive and much of it is basic SQL or PROC SUMMARY."
   ]
  },
  {
   "cell_type": "markdown",
   "metadata": {},
   "source": [
    "**How many rows in the dataset**\n",
    "\n",
    "~~~\n",
    "SAS: you should be able to see the number of obs in the log.\n",
    "SQL: select count (*) from table;\n",
    "~~~"
   ]
  },
  {
   "cell_type": "code",
   "execution_count": 12,
   "metadata": {},
   "outputs": [
    {
     "data": {
      "text/plain": [
       "19830"
      ]
     },
     "execution_count": 12,
     "metadata": {},
     "output_type": "execute_result"
    }
   ],
   "source": [
    "life['State'].count()"
   ]
  },
  {
   "cell_type": "markdown",
   "metadata": {},
   "source": [
    "**Largest Value in the column?**\n",
    "~~~\n",
    "select max('Number of Discharges') from table;\n",
    "~~~"
   ]
  },
  {
   "cell_type": "code",
   "execution_count": 69,
   "metadata": {},
   "outputs": [
    {
     "data": {
      "text/plain": [
       "8355.0"
      ]
     },
     "execution_count": 69,
     "metadata": {},
     "output_type": "execute_result"
    }
   ],
   "source": [
    "df=life\n",
    "cols_to_convert = ['Number of Discharges', 'Expected Readmission Rate', 'Predicted Readmission Rate']\n",
    "cols_to_date    = ['Start Date', 'End Date']\n",
    "for col in cols_to_convert:\n",
    "    df[col] = pd.to_numeric(df[col], errors='coerce')\n",
    "for col in cols_to_date:\n",
    "    df[col] = pd.to_datetime(df[col], errors='coerce')      \n",
    "\n",
    "df.dtypes\n",
    "\n",
    "df['Number of Discharges'].max()"
   ]
  },
  {
   "cell_type": "markdown",
   "metadata": {},
   "source": [
    "**How many discharges of phone calls are in the State of AL**\n",
    "~~~\n",
    "select sum ('Number of Discharges') \n",
    "from table \n",
    "where 'State' = 'AL' \n",
    "~~~"
   ]
  },
  {
   "cell_type": "code",
   "execution_count": 20,
   "metadata": {},
   "outputs": [
    {
     "data": {
      "text/plain": [
       "95303.0"
      ]
     },
     "execution_count": 20,
     "metadata": {},
     "output_type": "execute_result"
    }
   ],
   "source": [
    "df['Number of Discharges'][df[ 'State'] == 'AL'].sum()"
   ]
  },
  {
   "cell_type": "code",
   "execution_count": 21,
   "metadata": {},
   "outputs": [
    {
     "data": {
      "text/plain": [
       "820.0"
      ]
     },
     "execution_count": 21,
     "metadata": {},
     "output_type": "execute_result"
    }
   ],
   "source": [
    "#what if we wanted highland medical center?\n",
    "df['Number of Discharges'][df[ 'Hospital Name'] == 'HIGHLANDS MEDICAL CENTER'].sum()"
   ]
  },
  {
   "cell_type": "markdown",
   "metadata": {},
   "source": [
    "**How many entries are there for each state?**\n",
    "\n",
    "~~~\n",
    "SQL\n",
    "select 'State', \n",
    "        count (*) \n",
    "from table \n",
    "group by 'State'\n",
    "\n",
    "SAS:\n",
    "proc freq data = table;\n",
    "tables 'State';\n",
    "run;\n",
    "~~~"
   ]
  },
  {
   "cell_type": "code",
   "execution_count": 26,
   "metadata": {},
   "outputs": [
    {
     "data": {
      "text/plain": [
       "TX    1872\n",
       "CA    1782\n",
       "FL    1026\n",
       "NY     912\n",
       "PA     900\n",
       "Name: State, dtype: int64"
      ]
     },
     "execution_count": 26,
     "metadata": {},
     "output_type": "execute_result"
    }
   ],
   "source": [
    "x = df['State'].value_counts()\n",
    "x.head()"
   ]
  },
  {
   "cell_type": "markdown",
   "metadata": {},
   "source": [
    "**Number of non-null unique network entries for hospitals**\n",
    "~~~\n",
    "select count (distinct 'Hospital Name') from table;\n",
    "~~~"
   ]
  },
  {
   "cell_type": "code",
   "execution_count": 24,
   "metadata": {},
   "outputs": [
    {
     "data": {
      "text/plain": [
       "3195"
      ]
     },
     "execution_count": 24,
     "metadata": {},
     "output_type": "execute_result"
    }
   ],
   "source": [
    "df['Hospital Name'].nunique()  "
   ]
  },
  {
   "cell_type": "code",
   "execution_count": 25,
   "metadata": {},
   "outputs": [
    {
     "data": {
      "text/plain": [
       "19830"
      ]
     },
     "execution_count": 25,
     "metadata": {},
     "output_type": "execute_result"
    }
   ],
   "source": [
    "#How many rows the dataset\n",
    "df['Hospital Name'].count()"
   ]
  },
  {
   "cell_type": "markdown",
   "metadata": {},
   "source": [
    "### 2. Group By\n",
    "\n",
    "In SAS we use PROC SUMMARY or MEANS with BY, VAR, and CLASS statements to summarize data. While SQL uses group by statements and each variable is summarized in the select statement. We will go through simple group by statements and the explore the *agg()* function to sumarize different columns to create data sets. "
   ]
  },
  {
   "cell_type": "markdown",
   "metadata": {},
   "source": [
    "**Assign values to a dictionairy **"
   ]
  },
  {
   "cell_type": "code",
   "execution_count": 28,
   "metadata": {},
   "outputs": [
    {
     "data": {
      "text/plain": [
       "dict_keys(['AK', 'AL', 'AR', 'AZ', 'CA', 'CO', 'CT', 'DC', 'DE', 'FL', 'GA', 'HI', 'IA', 'ID', 'IL', 'IN', 'KS', 'KY', 'LA', 'MA', 'MD', 'ME', 'MI', 'MN', 'MO', 'MS', 'MT', 'NC', 'ND', 'NE', 'NH', 'NJ', 'NM', 'NV', 'NY', 'OH', 'OK', 'OR', 'PA', 'RI', 'SC', 'SD', 'TN', 'TX', 'UT', 'VA', 'VT', 'WA', 'WI', 'WV', 'WY'])"
      ]
     },
     "execution_count": 28,
     "metadata": {},
     "output_type": "execute_result"
    }
   ],
   "source": [
    "df.groupby(['State']).groups.keys() "
   ]
  },
  {
   "cell_type": "code",
   "execution_count": 33,
   "metadata": {},
   "outputs": [
    {
     "data": {
      "text/plain": [
       "1782"
      ]
     },
     "execution_count": 33,
     "metadata": {},
     "output_type": "execute_result"
    }
   ],
   "source": [
    "len (df.groupby(['State']).groups['CA'])"
   ]
  },
  {
   "cell_type": "markdown",
   "metadata": {},
   "source": [
    "**First Record by State**"
   ]
  },
  {
   "cell_type": "code",
   "execution_count": 79,
   "metadata": {},
   "outputs": [
    {
     "data": {
      "text/html": [
       "<div>\n",
       "<style scoped>\n",
       "    .dataframe tbody tr th:only-of-type {\n",
       "        vertical-align: middle;\n",
       "    }\n",
       "\n",
       "    .dataframe tbody tr th {\n",
       "        vertical-align: top;\n",
       "    }\n",
       "\n",
       "    .dataframe thead th {\n",
       "        text-align: right;\n",
       "    }\n",
       "</style>\n",
       "<table border=\"1\" class=\"dataframe\">\n",
       "  <thead>\n",
       "    <tr style=\"text-align: right;\">\n",
       "      <th></th>\n",
       "      <th>Hospital Name</th>\n",
       "      <th>Provider Number</th>\n",
       "      <th>Measure Name</th>\n",
       "      <th>Number of Discharges</th>\n",
       "      <th>Footnote</th>\n",
       "      <th>Excess Readmission Ratio</th>\n",
       "      <th>Predicted Readmission Rate</th>\n",
       "      <th>Expected Readmission Rate</th>\n",
       "      <th>Number of Readmissions</th>\n",
       "      <th>Start Date</th>\n",
       "      <th>End Date</th>\n",
       "    </tr>\n",
       "    <tr>\n",
       "      <th>State</th>\n",
       "      <th></th>\n",
       "      <th></th>\n",
       "      <th></th>\n",
       "      <th></th>\n",
       "      <th></th>\n",
       "      <th></th>\n",
       "      <th></th>\n",
       "      <th></th>\n",
       "      <th></th>\n",
       "      <th></th>\n",
       "      <th></th>\n",
       "    </tr>\n",
       "  </thead>\n",
       "  <tbody>\n",
       "    <tr>\n",
       "      <th>AK</th>\n",
       "      <td>PROVIDENCE ALASKA MEDICAL CENTER</td>\n",
       "      <td>20001</td>\n",
       "      <td>READM-30-CABG-HRRP</td>\n",
       "      <td>118.0</td>\n",
       "      <td>5.0</td>\n",
       "      <td>0.8939</td>\n",
       "      <td>12.1</td>\n",
       "      <td>13.5</td>\n",
       "      <td>11</td>\n",
       "      <td>2013-07-01</td>\n",
       "      <td>2016-06-30</td>\n",
       "    </tr>\n",
       "    <tr>\n",
       "      <th>AL</th>\n",
       "      <td>HIGHLANDS MEDICAL CENTER</td>\n",
       "      <td>10061</td>\n",
       "      <td>READM-30-AMI-HRRP</td>\n",
       "      <td>103.0</td>\n",
       "      <td>1.0</td>\n",
       "      <td>Not Available</td>\n",
       "      <td>14.4</td>\n",
       "      <td>14.6</td>\n",
       "      <td>Not Available</td>\n",
       "      <td>2013-07-01</td>\n",
       "      <td>2016-06-30</td>\n",
       "    </tr>\n",
       "    <tr>\n",
       "      <th>AR</th>\n",
       "      <td>NORTH METRO MEDICAL CENTER</td>\n",
       "      <td>40074</td>\n",
       "      <td>READM-30-HIP-KNEE-HRRP</td>\n",
       "      <td>637.0</td>\n",
       "      <td>5.0</td>\n",
       "      <td>Not Available</td>\n",
       "      <td>14.2</td>\n",
       "      <td>13.9</td>\n",
       "      <td>Not Available</td>\n",
       "      <td>2013-07-01</td>\n",
       "      <td>2016-06-30</td>\n",
       "    </tr>\n",
       "    <tr>\n",
       "      <th>AZ</th>\n",
       "      <td>ABRAZO CENTRAL CAMPUS</td>\n",
       "      <td>30030</td>\n",
       "      <td>READM-30-CABG-HRRP</td>\n",
       "      <td>119.0</td>\n",
       "      <td>1.0</td>\n",
       "      <td>0.9867</td>\n",
       "      <td>13.4</td>\n",
       "      <td>13.6</td>\n",
       "      <td>Too Few to Report</td>\n",
       "      <td>2013-07-01</td>\n",
       "      <td>2016-06-30</td>\n",
       "    </tr>\n",
       "    <tr>\n",
       "      <th>CA</th>\n",
       "      <td>MILLS-PENINSULA MEDICAL CENTER</td>\n",
       "      <td>50007</td>\n",
       "      <td>READM-30-PN-HRRP</td>\n",
       "      <td>525.0</td>\n",
       "      <td>5.0</td>\n",
       "      <td>0.8116</td>\n",
       "      <td>12.9</td>\n",
       "      <td>15.9</td>\n",
       "      <td>56</td>\n",
       "      <td>2013-07-01</td>\n",
       "      <td>2016-06-30</td>\n",
       "    </tr>\n",
       "  </tbody>\n",
       "</table>\n",
       "</div>"
      ],
      "text/plain": [
       "                          Hospital Name  Provider Number  \\\n",
       "State                                                      \n",
       "AK     PROVIDENCE ALASKA MEDICAL CENTER            20001   \n",
       "AL             HIGHLANDS MEDICAL CENTER            10061   \n",
       "AR           NORTH METRO MEDICAL CENTER            40074   \n",
       "AZ                ABRAZO CENTRAL CAMPUS            30030   \n",
       "CA       MILLS-PENINSULA MEDICAL CENTER            50007   \n",
       "\n",
       "                 Measure Name  Number of Discharges  Footnote  \\\n",
       "State                                                           \n",
       "AK         READM-30-CABG-HRRP                 118.0       5.0   \n",
       "AL          READM-30-AMI-HRRP                 103.0       1.0   \n",
       "AR     READM-30-HIP-KNEE-HRRP                 637.0       5.0   \n",
       "AZ         READM-30-CABG-HRRP                 119.0       1.0   \n",
       "CA           READM-30-PN-HRRP                 525.0       5.0   \n",
       "\n",
       "      Excess Readmission Ratio  Predicted Readmission Rate  \\\n",
       "State                                                        \n",
       "AK                      0.8939                        12.1   \n",
       "AL               Not Available                        14.4   \n",
       "AR               Not Available                        14.2   \n",
       "AZ                      0.9867                        13.4   \n",
       "CA                      0.8116                        12.9   \n",
       "\n",
       "       Expected Readmission Rate Number of Readmissions Start Date   End Date  \n",
       "State                                                                          \n",
       "AK                          13.5                     11 2013-07-01 2016-06-30  \n",
       "AL                          14.6          Not Available 2013-07-01 2016-06-30  \n",
       "AR                          13.9          Not Available 2013-07-01 2016-06-30  \n",
       "AZ                          13.6      Too Few to Report 2013-07-01 2016-06-30  \n",
       "CA                          15.9                     56 2013-07-01 2016-06-30  "
      ]
     },
     "execution_count": 79,
     "metadata": {},
     "output_type": "execute_result"
    }
   ],
   "source": [
    "df.groupby('State').first().head(5)"
   ]
  },
  {
   "cell_type": "markdown",
   "metadata": {},
   "source": [
    "**Sum of Discharges by State**"
   ]
  },
  {
   "cell_type": "code",
   "execution_count": 37,
   "metadata": {},
   "outputs": [
    {
     "data": {
      "text/plain": [
       "State\n",
       "AK      5019.0\n",
       "AL     95303.0\n",
       "AR     61703.0\n",
       "AZ     76353.0\n",
       "CA    303151.0\n",
       "Name: Number of Discharges, dtype: float64"
      ]
     },
     "execution_count": 37,
     "metadata": {},
     "output_type": "execute_result"
    }
   ],
   "source": [
    "x = df.groupby('State')['Number of Discharges'].sum()\n",
    "x.head()"
   ]
  },
  {
   "cell_type": "markdown",
   "metadata": {},
   "source": [
    "**Get the number of Hospitals in Each State**"
   ]
  },
  {
   "cell_type": "code",
   "execution_count": 57,
   "metadata": {},
   "outputs": [
    {
     "data": {
      "text/plain": [
       "State\n",
       "AK      48\n",
       "AL     510\n",
       "AR     270\n",
       "AZ     378\n",
       "CA    1782\n",
       "Name: Hospital Name, dtype: int64"
      ]
     },
     "execution_count": 57,
     "metadata": {},
     "output_type": "execute_result"
    }
   ],
   "source": [
    "df.groupby('State')['Hospital Name'].count().head()"
   ]
  },
  {
   "cell_type": "markdown",
   "metadata": {},
   "source": [
    "**For the State of AL, list the number of discharges by hospital name**"
   ]
  },
  {
   "cell_type": "code",
   "execution_count": 43,
   "metadata": {},
   "outputs": [
    {
     "data": {
      "text/plain": [
       "Hospital Name\n",
       "ANDALUSIA REGIONAL HOSPITAL      690.0\n",
       "ATHENS LIMESTONE HOSPITAL        865.0\n",
       "ATMORE COMMUNITY HOSPITAL        442.0\n",
       "BAPTIST MEDICAL CENTER EAST      910.0\n",
       "BAPTIST MEDICAL CENTER SOUTH    2238.0\n",
       "Name: Number of Discharges, dtype: float64"
      ]
     },
     "execution_count": 43,
     "metadata": {},
     "output_type": "execute_result"
    }
   ],
   "source": [
    "x= df[df['State'] == 'AL'].groupby('Hospital Name')['Number of Discharges'].sum()\n",
    "x.head()"
   ]
  },
  {
   "cell_type": "markdown",
   "metadata": {},
   "source": [
    "**By STATE and Measure Name count the number of discharges**"
   ]
  },
  {
   "cell_type": "code",
   "execution_count": 47,
   "metadata": {},
   "outputs": [
    {
     "data": {
      "text/plain": [
       "State  Measure Name          \n",
       "AK     READM-30-AMI-HRRP         2\n",
       "       READM-30-CABG-HRRP        1\n",
       "       READM-30-COPD-HRRP        6\n",
       "       READM-30-HF-HRRP          5\n",
       "       READM-30-HIP-KNEE-HRRP    3\n",
       "Name: Number of Discharges, dtype: int64"
      ]
     },
     "execution_count": 47,
     "metadata": {},
     "output_type": "execute_result"
    }
   ],
   "source": [
    "x=df.groupby(['State', 'Measure Name'])['Number of Discharges'].count()\n",
    "x.head()"
   ]
  },
  {
   "cell_type": "code",
   "execution_count": 52,
   "metadata": {},
   "outputs": [
    {
     "data": {
      "text/plain": [
       "State  Hospital Name                     \n",
       "AK     ALASKA NATIVE MEDICAL CENTER           425.0\n",
       "       ALASKA REGIONAL HOSPITAL              1046.0\n",
       "       BARTLETT REGIONAL HOSPITAL               NaN\n",
       "       CENTRAL PENINSULA GENERAL HOSPITAL     565.0\n",
       "       FAIRBANKS MEMORIAL HOSPITAL            219.0\n",
       "Name: Number of Discharges, dtype: float64"
      ]
     },
     "execution_count": 52,
     "metadata": {},
     "output_type": "execute_result"
    }
   ],
   "source": [
    "x= df.groupby(['State', 'Hospital Name'])['Number of Discharges'].sum()\n",
    "x.head()"
   ]
  },
  {
   "cell_type": "markdown",
   "metadata": {},
   "source": [
    "**Sum of all discharges by state**"
   ]
  },
  {
   "cell_type": "code",
   "execution_count": 64,
   "metadata": {},
   "outputs": [
    {
     "data": {
      "text/html": [
       "<div>\n",
       "<style scoped>\n",
       "    .dataframe tbody tr th:only-of-type {\n",
       "        vertical-align: middle;\n",
       "    }\n",
       "\n",
       "    .dataframe tbody tr th {\n",
       "        vertical-align: top;\n",
       "    }\n",
       "\n",
       "    .dataframe thead tr th {\n",
       "        text-align: left;\n",
       "    }\n",
       "\n",
       "    .dataframe thead tr:last-of-type th {\n",
       "        text-align: right;\n",
       "    }\n",
       "</style>\n",
       "<table border=\"1\" class=\"dataframe\">\n",
       "  <thead>\n",
       "    <tr>\n",
       "      <th></th>\n",
       "      <th>Number of Discharges</th>\n",
       "    </tr>\n",
       "    <tr>\n",
       "      <th></th>\n",
       "      <th>sum</th>\n",
       "    </tr>\n",
       "    <tr>\n",
       "      <th>State</th>\n",
       "      <th></th>\n",
       "    </tr>\n",
       "  </thead>\n",
       "  <tbody>\n",
       "    <tr>\n",
       "      <th>AK</th>\n",
       "      <td>5019.0</td>\n",
       "    </tr>\n",
       "    <tr>\n",
       "      <th>AL</th>\n",
       "      <td>95303.0</td>\n",
       "    </tr>\n",
       "    <tr>\n",
       "      <th>AR</th>\n",
       "      <td>61703.0</td>\n",
       "    </tr>\n",
       "    <tr>\n",
       "      <th>AZ</th>\n",
       "      <td>76353.0</td>\n",
       "    </tr>\n",
       "    <tr>\n",
       "      <th>CA</th>\n",
       "      <td>303151.0</td>\n",
       "    </tr>\n",
       "  </tbody>\n",
       "</table>\n",
       "</div>"
      ],
      "text/plain": [
       "      Number of Discharges\n",
       "                       sum\n",
       "State                     \n",
       "AK                  5019.0\n",
       "AL                 95303.0\n",
       "AR                 61703.0\n",
       "AZ                 76353.0\n",
       "CA                303151.0"
      ]
     },
     "execution_count": 64,
     "metadata": {},
     "output_type": "execute_result"
    }
   ],
   "source": [
    "df.groupby('State').agg({'Number of Discharges': ['sum']}).head()"
   ]
  },
  {
   "cell_type": "markdown",
   "metadata": {},
   "source": [
    "**Sum & Mean of all Discharges & Readmission Rate | BY | State and Meassure Name**"
   ]
  },
  {
   "cell_type": "code",
   "execution_count": 65,
   "metadata": {},
   "outputs": [
    {
     "data": {
      "text/html": [
       "<div>\n",
       "<style scoped>\n",
       "    .dataframe tbody tr th:only-of-type {\n",
       "        vertical-align: middle;\n",
       "    }\n",
       "\n",
       "    .dataframe tbody tr th {\n",
       "        vertical-align: top;\n",
       "    }\n",
       "\n",
       "    .dataframe thead tr th {\n",
       "        text-align: left;\n",
       "    }\n",
       "\n",
       "    .dataframe thead tr:last-of-type th {\n",
       "        text-align: right;\n",
       "    }\n",
       "</style>\n",
       "<table border=\"1\" class=\"dataframe\">\n",
       "  <thead>\n",
       "    <tr>\n",
       "      <th></th>\n",
       "      <th></th>\n",
       "      <th colspan=\"2\" halign=\"left\">Number of Discharges</th>\n",
       "      <th>Predicted Readmission Rate</th>\n",
       "    </tr>\n",
       "    <tr>\n",
       "      <th></th>\n",
       "      <th></th>\n",
       "      <th>sum</th>\n",
       "      <th>mean</th>\n",
       "      <th>mean</th>\n",
       "    </tr>\n",
       "    <tr>\n",
       "      <th>State</th>\n",
       "      <th>Measure Name</th>\n",
       "      <th></th>\n",
       "      <th></th>\n",
       "      <th></th>\n",
       "    </tr>\n",
       "  </thead>\n",
       "  <tbody>\n",
       "    <tr>\n",
       "      <th rowspan=\"6\" valign=\"top\">AK</th>\n",
       "      <th>READM-30-AMI-HRRP</th>\n",
       "      <td>556.0</td>\n",
       "      <td>278.000000</td>\n",
       "      <td>13.580000</td>\n",
       "    </tr>\n",
       "    <tr>\n",
       "      <th>READM-30-CABG-HRRP</th>\n",
       "      <td>118.0</td>\n",
       "      <td>118.000000</td>\n",
       "      <td>12.700000</td>\n",
       "    </tr>\n",
       "    <tr>\n",
       "      <th>READM-30-COPD-HRRP</th>\n",
       "      <td>834.0</td>\n",
       "      <td>139.000000</td>\n",
       "      <td>17.212500</td>\n",
       "    </tr>\n",
       "    <tr>\n",
       "      <th>READM-30-HF-HRRP</th>\n",
       "      <td>830.0</td>\n",
       "      <td>166.000000</td>\n",
       "      <td>19.637500</td>\n",
       "    </tr>\n",
       "    <tr>\n",
       "      <th>READM-30-HIP-KNEE-HRRP</th>\n",
       "      <td>1330.0</td>\n",
       "      <td>443.333333</td>\n",
       "      <td>3.742857</td>\n",
       "    </tr>\n",
       "    <tr>\n",
       "      <th>READM-30-PN-HRRP</th>\n",
       "      <td>1351.0</td>\n",
       "      <td>225.166667</td>\n",
       "      <td>14.487500</td>\n",
       "    </tr>\n",
       "    <tr>\n",
       "      <th rowspan=\"4\" valign=\"top\">AL</th>\n",
       "      <th>READM-30-AMI-HRRP</th>\n",
       "      <td>8394.0</td>\n",
       "      <td>262.312500</td>\n",
       "      <td>15.850000</td>\n",
       "    </tr>\n",
       "    <tr>\n",
       "      <th>READM-30-CABG-HRRP</th>\n",
       "      <td>3328.0</td>\n",
       "      <td>175.157895</td>\n",
       "      <td>13.631818</td>\n",
       "    </tr>\n",
       "    <tr>\n",
       "      <th>READM-30-COPD-HRRP</th>\n",
       "      <td>18904.0</td>\n",
       "      <td>286.424242</td>\n",
       "      <td>17.997436</td>\n",
       "    </tr>\n",
       "    <tr>\n",
       "      <th>READM-30-HF-HRRP</th>\n",
       "      <td>22146.0</td>\n",
       "      <td>369.100000</td>\n",
       "      <td>20.532468</td>\n",
       "    </tr>\n",
       "  </tbody>\n",
       "</table>\n",
       "</div>"
      ],
      "text/plain": [
       "                             Number of Discharges              \\\n",
       "                                              sum        mean   \n",
       "State Measure Name                                              \n",
       "AK    READM-30-AMI-HRRP                     556.0  278.000000   \n",
       "      READM-30-CABG-HRRP                    118.0  118.000000   \n",
       "      READM-30-COPD-HRRP                    834.0  139.000000   \n",
       "      READM-30-HF-HRRP                      830.0  166.000000   \n",
       "      READM-30-HIP-KNEE-HRRP               1330.0  443.333333   \n",
       "      READM-30-PN-HRRP                     1351.0  225.166667   \n",
       "AL    READM-30-AMI-HRRP                    8394.0  262.312500   \n",
       "      READM-30-CABG-HRRP                   3328.0  175.157895   \n",
       "      READM-30-COPD-HRRP                  18904.0  286.424242   \n",
       "      READM-30-HF-HRRP                    22146.0  369.100000   \n",
       "\n",
       "                             Predicted Readmission Rate  \n",
       "                                                   mean  \n",
       "State Measure Name                                       \n",
       "AK    READM-30-AMI-HRRP                       13.580000  \n",
       "      READM-30-CABG-HRRP                      12.700000  \n",
       "      READM-30-COPD-HRRP                      17.212500  \n",
       "      READM-30-HF-HRRP                        19.637500  \n",
       "      READM-30-HIP-KNEE-HRRP                   3.742857  \n",
       "      READM-30-PN-HRRP                        14.487500  \n",
       "AL    READM-30-AMI-HRRP                       15.850000  \n",
       "      READM-30-CABG-HRRP                      13.631818  \n",
       "      READM-30-COPD-HRRP                      17.997436  \n",
       "      READM-30-HF-HRRP                        20.532468  "
      ]
     },
     "execution_count": 65,
     "metadata": {},
     "output_type": "execute_result"
    }
   ],
   "source": [
    "df.groupby(['State', 'Measure Name']).agg({'Number of Discharges': ['sum', 'mean'],      # find the sum of the discharges for each group\n",
    "                                           'Predicted Readmission Rate': ['mean'] # find the number of network type entries\n",
    "                                             }).head(10)  \n"
   ]
  },
  {
   "cell_type": "code",
   "execution_count": 68,
   "metadata": {},
   "outputs": [
    {
     "data": {
      "text/html": [
       "<div>\n",
       "<style scoped>\n",
       "    .dataframe tbody tr th:only-of-type {\n",
       "        vertical-align: middle;\n",
       "    }\n",
       "\n",
       "    .dataframe tbody tr th {\n",
       "        vertical-align: top;\n",
       "    }\n",
       "\n",
       "    .dataframe thead th {\n",
       "        text-align: right;\n",
       "    }\n",
       "</style>\n",
       "<table border=\"1\" class=\"dataframe\">\n",
       "  <thead>\n",
       "    <tr style=\"text-align: right;\">\n",
       "      <th></th>\n",
       "      <th>Number of Discharges</th>\n",
       "      <th>Predicted Readmission Rate</th>\n",
       "    </tr>\n",
       "    <tr>\n",
       "      <th>State</th>\n",
       "      <th></th>\n",
       "      <th></th>\n",
       "    </tr>\n",
       "  </thead>\n",
       "  <tbody>\n",
       "    <tr>\n",
       "      <th>AK</th>\n",
       "      <td>5019.0</td>\n",
       "      <td>21.5</td>\n",
       "    </tr>\n",
       "    <tr>\n",
       "      <th>AL</th>\n",
       "      <td>95303.0</td>\n",
       "      <td>NaN</td>\n",
       "    </tr>\n",
       "    <tr>\n",
       "      <th>AR</th>\n",
       "      <td>61703.0</td>\n",
       "      <td>NaN</td>\n",
       "    </tr>\n",
       "    <tr>\n",
       "      <th>AZ</th>\n",
       "      <td>76353.0</td>\n",
       "      <td>24.5</td>\n",
       "    </tr>\n",
       "    <tr>\n",
       "      <th>CA</th>\n",
       "      <td>303151.0</td>\n",
       "      <td>28.0</td>\n",
       "    </tr>\n",
       "  </tbody>\n",
       "</table>\n",
       "</div>"
      ],
      "text/plain": [
       "       Number of Discharges  Predicted Readmission Rate\n",
       "State                                                  \n",
       "AK                   5019.0                        21.5\n",
       "AL                  95303.0                         NaN\n",
       "AR                  61703.0                         NaN\n",
       "AZ                  76353.0                        24.5\n",
       "CA                 303151.0                        28.0"
      ]
     },
     "execution_count": 68,
     "metadata": {},
     "output_type": "execute_result"
    }
   ],
   "source": [
    "# Define the aggregation procedure outside of the groupby operation\n",
    "AGY = {\n",
    "    'Number of Discharges':'sum',\n",
    "    'Predicted Readmission Rate': lambda x: max(x) - 1\n",
    "    }\n",
    "\n",
    "df.groupby('State').agg(AGY).head()"
   ]
  },
  {
   "cell_type": "code",
   "execution_count": 73,
   "metadata": {},
   "outputs": [
    {
     "data": {
      "text/html": [
       "<div>\n",
       "<style scoped>\n",
       "    .dataframe tbody tr th:only-of-type {\n",
       "        vertical-align: middle;\n",
       "    }\n",
       "\n",
       "    .dataframe tbody tr th {\n",
       "        vertical-align: top;\n",
       "    }\n",
       "\n",
       "    .dataframe thead tr th {\n",
       "        text-align: left;\n",
       "    }\n",
       "\n",
       "    .dataframe thead tr:last-of-type th {\n",
       "        text-align: right;\n",
       "    }\n",
       "</style>\n",
       "<table border=\"1\" class=\"dataframe\">\n",
       "  <thead>\n",
       "    <tr>\n",
       "      <th></th>\n",
       "      <th colspan=\"4\" halign=\"left\">Number of Discharges</th>\n",
       "      <th colspan=\"3\" halign=\"left\">Start Date</th>\n",
       "    </tr>\n",
       "    <tr>\n",
       "      <th></th>\n",
       "      <th>min</th>\n",
       "      <th>max</th>\n",
       "      <th>sum</th>\n",
       "      <th>mean</th>\n",
       "      <th>min</th>\n",
       "      <th>first</th>\n",
       "      <th>nunique</th>\n",
       "    </tr>\n",
       "    <tr>\n",
       "      <th>State</th>\n",
       "      <th></th>\n",
       "      <th></th>\n",
       "      <th></th>\n",
       "      <th></th>\n",
       "      <th></th>\n",
       "      <th></th>\n",
       "      <th></th>\n",
       "    </tr>\n",
       "  </thead>\n",
       "  <tbody>\n",
       "    <tr>\n",
       "      <th>AK</th>\n",
       "      <td>76.0</td>\n",
       "      <td>608.0</td>\n",
       "      <td>5019.0</td>\n",
       "      <td>218.217391</td>\n",
       "      <td>2013-07-01</td>\n",
       "      <td>2013-07-01</td>\n",
       "      <td>1</td>\n",
       "    </tr>\n",
       "    <tr>\n",
       "      <th>AL</th>\n",
       "      <td>0.0</td>\n",
       "      <td>1861.0</td>\n",
       "      <td>95303.0</td>\n",
       "      <td>350.378676</td>\n",
       "      <td>2013-07-01</td>\n",
       "      <td>2013-07-01</td>\n",
       "      <td>1</td>\n",
       "    </tr>\n",
       "    <tr>\n",
       "      <th>AR</th>\n",
       "      <td>48.0</td>\n",
       "      <td>2152.0</td>\n",
       "      <td>61703.0</td>\n",
       "      <td>358.738372</td>\n",
       "      <td>2013-07-01</td>\n",
       "      <td>2013-07-01</td>\n",
       "      <td>1</td>\n",
       "    </tr>\n",
       "    <tr>\n",
       "      <th>AZ</th>\n",
       "      <td>0.0</td>\n",
       "      <td>2165.0</td>\n",
       "      <td>76353.0</td>\n",
       "      <td>353.486111</td>\n",
       "      <td>2013-07-01</td>\n",
       "      <td>2013-07-01</td>\n",
       "      <td>1</td>\n",
       "    </tr>\n",
       "    <tr>\n",
       "      <th>CA</th>\n",
       "      <td>0.0</td>\n",
       "      <td>3073.0</td>\n",
       "      <td>303151.0</td>\n",
       "      <td>314.471992</td>\n",
       "      <td>2013-07-01</td>\n",
       "      <td>2013-07-01</td>\n",
       "      <td>1</td>\n",
       "    </tr>\n",
       "  </tbody>\n",
       "</table>\n",
       "</div>"
      ],
      "text/plain": [
       "      Number of Discharges                               Start Date  \\\n",
       "                       min     max       sum        mean        min   \n",
       "State                                                                 \n",
       "AK                    76.0   608.0    5019.0  218.217391 2013-07-01   \n",
       "AL                     0.0  1861.0   95303.0  350.378676 2013-07-01   \n",
       "AR                    48.0  2152.0   61703.0  358.738372 2013-07-01   \n",
       "AZ                     0.0  2165.0   76353.0  353.486111 2013-07-01   \n",
       "CA                     0.0  3073.0  303151.0  314.471992 2013-07-01   \n",
       "\n",
       "                          \n",
       "           first nunique  \n",
       "State                     \n",
       "AK    2013-07-01       1  \n",
       "AL    2013-07-01       1  \n",
       "AR    2013-07-01       1  \n",
       "AZ    2013-07-01       1  \n",
       "CA    2013-07-01       1  "
      ]
     },
     "execution_count": 73,
     "metadata": {},
     "output_type": "execute_result"
    }
   ],
   "source": [
    "# find the min, max, and sum of the Discharge column\n",
    "df.groupby(['State']).agg({'Number of Discharges': [min, max, sum, 'mean'],      \n",
    "                              'Start Date': [min, 'first', 'nunique']}).head()    \n",
    "# get the min, first, and number of unique dates per state"
   ]
  }
 ],
 "metadata": {
  "kernelspec": {
   "display_name": "Python 3",
   "language": "python",
   "name": "python3"
  },
  "language_info": {
   "codemirror_mode": {
    "name": "ipython",
    "version": 3
   },
   "file_extension": ".py",
   "mimetype": "text/x-python",
   "name": "python",
   "nbconvert_exporter": "python",
   "pygments_lexer": "ipython3",
   "version": "3.6.3"
  }
 },
 "nbformat": 4,
 "nbformat_minor": 2
}
