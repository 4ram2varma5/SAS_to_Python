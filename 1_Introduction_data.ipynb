{
 "cells": [
  {
   "cell_type": "code",
   "execution_count": 7,
   "metadata": {},
   "outputs": [],
   "source": [
    "#Import Libs: \n",
    "!pip install -U pandasql from pandasql import sqldf pysqldf = lambda q: sqldf(q, globals()) #SQL LIBS\n",
    "import pandas as pd #Pandas Lib\n",
    "import numpy as np  #NumPy Lib\n",
    "\n",
    "#Life expectancy at birth in years from: https://www.data.gov/\n",
    "url = \"https://data.medicare.gov/api/views/9n3s-kdb3/rows.csv?accessType=DOWNLOAD\" \n",
    "life = pd.read_csv(url)"
   ]
  },
  {
   "cell_type": "code",
   "execution_count": 85,
   "metadata": {},
   "outputs": [
    {
     "data": {
      "text/html": [
       "<div>\n",
       "<style>\n",
       "    .dataframe thead tr:only-child th {\n",
       "        text-align: right;\n",
       "    }\n",
       "\n",
       "    .dataframe thead th {\n",
       "        text-align: left;\n",
       "    }\n",
       "\n",
       "    .dataframe tbody tr th {\n",
       "        vertical-align: top;\n",
       "    }\n",
       "</style>\n",
       "<table border=\"1\" class=\"dataframe\">\n",
       "  <thead>\n",
       "    <tr style=\"text-align: right;\">\n",
       "      <th></th>\n",
       "      <th>Hospital Name</th>\n",
       "      <th>Provider Number</th>\n",
       "      <th>State</th>\n",
       "      <th>Measure Name</th>\n",
       "      <th>Number of Discharges</th>\n",
       "      <th>Footnote</th>\n",
       "      <th>Excess Readmission Ratio</th>\n",
       "      <th>Predicted Readmission Rate</th>\n",
       "      <th>Expected Readmission Rate</th>\n",
       "      <th>Number of Readmissions</th>\n",
       "      <th>Start Date</th>\n",
       "      <th>End Date</th>\n",
       "    </tr>\n",
       "  </thead>\n",
       "  <tbody>\n",
       "    <tr>\n",
       "      <th>0</th>\n",
       "      <td>SOUTHEAST ALABAMA MEDICAL CENTER</td>\n",
       "      <td>10001</td>\n",
       "      <td>AL</td>\n",
       "      <td>READM-30-AMI-HRRP</td>\n",
       "      <td>781</td>\n",
       "      <td>None</td>\n",
       "      <td>0.9837</td>\n",
       "      <td>15.3580</td>\n",
       "      <td>15.6121</td>\n",
       "      <td>119</td>\n",
       "      <td>01-JUL-12</td>\n",
       "      <td>30-JUN-15</td>\n",
       "    </tr>\n",
       "    <tr>\n",
       "      <th>1</th>\n",
       "      <td>SOUTHEAST ALABAMA MEDICAL CENTER</td>\n",
       "      <td>10001</td>\n",
       "      <td>AL</td>\n",
       "      <td>READM-30-CABG-HRRP</td>\n",
       "      <td>273</td>\n",
       "      <td>None</td>\n",
       "      <td>1.0618</td>\n",
       "      <td>13.8887</td>\n",
       "      <td>13.0809</td>\n",
       "      <td>40</td>\n",
       "      <td>01-JUL-12</td>\n",
       "      <td>30-JUN-15</td>\n",
       "    </tr>\n",
       "    <tr>\n",
       "      <th>2</th>\n",
       "      <td>SOUTHEAST ALABAMA MEDICAL CENTER</td>\n",
       "      <td>10001</td>\n",
       "      <td>AL</td>\n",
       "      <td>READM-30-COPD-HRRP</td>\n",
       "      <td>709</td>\n",
       "      <td>None</td>\n",
       "      <td>1.0455</td>\n",
       "      <td>19.7525</td>\n",
       "      <td>18.8932</td>\n",
       "      <td>143</td>\n",
       "      <td>01-JUL-12</td>\n",
       "      <td>30-JUN-15</td>\n",
       "    </tr>\n",
       "    <tr>\n",
       "      <th>3</th>\n",
       "      <td>SOUTHEAST ALABAMA MEDICAL CENTER</td>\n",
       "      <td>10001</td>\n",
       "      <td>AL</td>\n",
       "      <td>READM-30-HF-HRRP</td>\n",
       "      <td>983</td>\n",
       "      <td>None</td>\n",
       "      <td>0.9509</td>\n",
       "      <td>20.2502</td>\n",
       "      <td>21.2964</td>\n",
       "      <td>196</td>\n",
       "      <td>01-JUL-12</td>\n",
       "      <td>30-JUN-15</td>\n",
       "    </tr>\n",
       "    <tr>\n",
       "      <th>4</th>\n",
       "      <td>SOUTHEAST ALABAMA MEDICAL CENTER</td>\n",
       "      <td>10001</td>\n",
       "      <td>AL</td>\n",
       "      <td>READM-30-HIP-KNEE-HRRP</td>\n",
       "      <td>335</td>\n",
       "      <td>None</td>\n",
       "      <td>1.1198</td>\n",
       "      <td>5.6025</td>\n",
       "      <td>5.0034</td>\n",
       "      <td>21</td>\n",
       "      <td>01-JUL-12</td>\n",
       "      <td>30-JUN-15</td>\n",
       "    </tr>\n",
       "  </tbody>\n",
       "</table>\n",
       "</div>"
      ],
      "text/plain": [
       "                      Hospital Name  Provider Number State  \\\n",
       "0  SOUTHEAST ALABAMA MEDICAL CENTER            10001    AL   \n",
       "1  SOUTHEAST ALABAMA MEDICAL CENTER            10001    AL   \n",
       "2  SOUTHEAST ALABAMA MEDICAL CENTER            10001    AL   \n",
       "3  SOUTHEAST ALABAMA MEDICAL CENTER            10001    AL   \n",
       "4  SOUTHEAST ALABAMA MEDICAL CENTER            10001    AL   \n",
       "\n",
       "             Measure Name Number of Discharges Footnote  \\\n",
       "0       READM-30-AMI-HRRP                  781     None   \n",
       "1      READM-30-CABG-HRRP                  273     None   \n",
       "2      READM-30-COPD-HRRP                  709     None   \n",
       "3        READM-30-HF-HRRP                  983     None   \n",
       "4  READM-30-HIP-KNEE-HRRP                  335     None   \n",
       "\n",
       "  Excess Readmission Ratio Predicted Readmission Rate  \\\n",
       "0                   0.9837                    15.3580   \n",
       "1                   1.0618                    13.8887   \n",
       "2                   1.0455                    19.7525   \n",
       "3                   0.9509                    20.2502   \n",
       "4                   1.1198                     5.6025   \n",
       "\n",
       "  Expected Readmission Rate Number of Readmissions Start Date   End Date  \n",
       "0                   15.6121                    119  01-JUL-12  30-JUN-15  \n",
       "1                   13.0809                     40  01-JUL-12  30-JUN-15  \n",
       "2                   18.8932                    143  01-JUL-12  30-JUN-15  \n",
       "3                   21.2964                    196  01-JUL-12  30-JUN-15  \n",
       "4                    5.0034                     21  01-JUL-12  30-JUN-15  "
      ]
     },
     "execution_count": 85,
     "metadata": {},
     "output_type": "execute_result"
    }
   ],
   "source": [
    "#~~~~~~~~~Understanding your Data~~~~~~~~~~~~~~\n",
    "#~~~~~~~~~~~~~~~~~~~~~~~~~~~~~~~~~~~~~~~~~~~~~~\n",
    "\n",
    "#1: print first 10 records\n",
    "#SQL: select * from life limit 10 (Hive)\n",
    "life.head(10)\n",
    "\n",
    "#Same example as 1 but I am going to use SQL insteal \n",
    "q =\"\"\"SELECT * FROM life limit 5;\"\"\"  \n",
    "df = pysqldf(q) \n",
    "df.head(5) "
   ]
  },
  {
   "cell_type": "code",
   "execution_count": 43,
   "metadata": {},
   "outputs": [
    {
     "name": "stdout",
     "output_type": "stream",
     "text": [
      "<class 'pandas.core.frame.DataFrame'>\n",
      "RangeIndex: 19878 entries, 0 to 19877\n",
      "Data columns (total 12 columns):\n",
      "Hospital Name                 19878 non-null object\n",
      "Provider Number               19878 non-null int64\n",
      "State                         19878 non-null object\n",
      "Measure Name                  19878 non-null object\n",
      "Number of Discharges          19878 non-null object\n",
      "Footnote                      5563 non-null float64\n",
      "Excess Readmission Ratio      19878 non-null object\n",
      "Predicted Readmission Rate    19878 non-null object\n",
      "Expected Readmission Rate     19878 non-null object\n",
      "Number of Readmissions        19878 non-null object\n",
      "Start Date                    19878 non-null object\n",
      "End Date                      19878 non-null object\n",
      "dtypes: float64(1), int64(1), object(10)\n",
      "memory usage: 1.8+ MB\n",
      "<class 'pandas.core.frame.DataFrame'>\n",
      "RangeIndex: 19878 entries, 0 to 19877\n",
      "Data columns (total 12 columns):\n",
      "Hospital Name                 19878 non-null object\n",
      "Provider Number               19878 non-null int64\n",
      "State                         19878 non-null object\n",
      "Measure Name                  19878 non-null object\n",
      "Number of Discharges          19878 non-null object\n",
      "Footnote                      5563 non-null float64\n",
      "Excess Readmission Ratio      19878 non-null object\n",
      "Predicted Readmission Rate    19878 non-null object\n",
      "Expected Readmission Rate     19878 non-null object\n",
      "Number of Readmissions        19878 non-null object\n",
      "Start Date                    19878 non-null object\n",
      "End Date                      19878 non-null object\n",
      "dtypes: float64(1), int64(1), object(10)\n",
      "memory usage: 1.8+ MB\n"
     ]
    }
   ],
   "source": [
    "#2: List variables in table\n",
    "#SAS & SQL: 'proc contents' & Hadoop - describe 'table'\n",
    "life.info()\n",
    "contents = life.info() #assign data set to session table"
   ]
  },
  {
   "cell_type": "code",
   "execution_count": 44,
   "metadata": {},
   "outputs": [
    {
     "data": {
      "text/plain": [
       "12"
      ]
     },
     "execution_count": 44,
     "metadata": {},
     "output_type": "execute_result"
    }
   ],
   "source": [
    "#3 What is the number of rows & columns in the dataset\n",
    "#SAS and SQL: 'select count (*) from life' \n",
    "life.shape[0] #Number of Rows\n",
    "life.shape[1] #Number of Columns"
   ]
  },
  {
   "cell_type": "code",
   "execution_count": 45,
   "metadata": {
    "scrolled": false
   },
   "outputs": [
    {
     "data": {
      "text/plain": [
       "Index(['Hospital Name', 'Provider Number', 'State', 'Measure Name',\n",
       "       'Number of Discharges', 'Footnote', 'Excess Readmission Ratio',\n",
       "       'Predicted Readmission Rate', 'Expected Readmission Rate',\n",
       "       'Number of Readmissions', 'Start Date', 'End Date'],\n",
       "      dtype='object')"
      ]
     },
     "execution_count": 45,
     "metadata": {},
     "output_type": "execute_result"
    }
   ],
   "source": [
    "#4 Give the column names\n",
    "#SAS 'proc contents w/ \"short\" option'\n",
    "life.columns"
   ]
  },
  {
   "cell_type": "code",
   "execution_count": 46,
   "metadata": {},
   "outputs": [
    {
     "data": {
      "text/plain": [
       "RangeIndex(start=0, stop=19878, step=1)"
      ]
     },
     "execution_count": 46,
     "metadata": {},
     "output_type": "execute_result"
    }
   ],
   "source": [
    "#5 What is the data set indexed on?\n",
    "life.index"
   ]
  },
  {
   "cell_type": "code",
   "execution_count": 132,
   "metadata": {},
   "outputs": [
    {
     "data": {
      "text/html": [
       "<div>\n",
       "<style>\n",
       "    .dataframe thead tr:only-child th {\n",
       "        text-align: right;\n",
       "    }\n",
       "\n",
       "    .dataframe thead th {\n",
       "        text-align: left;\n",
       "    }\n",
       "\n",
       "    .dataframe tbody tr th {\n",
       "        vertical-align: top;\n",
       "    }\n",
       "</style>\n",
       "<table border=\"1\" class=\"dataframe\">\n",
       "  <thead>\n",
       "    <tr style=\"text-align: right;\">\n",
       "      <th></th>\n",
       "      <th>Hospital Name</th>\n",
       "      <th>num_disch</th>\n",
       "    </tr>\n",
       "  </thead>\n",
       "  <tbody>\n",
       "    <tr>\n",
       "      <th>0</th>\n",
       "      <td>FLORIDA HOSPITAL</td>\n",
       "      <td>14138.0</td>\n",
       "    </tr>\n",
       "    <tr>\n",
       "      <th>1</th>\n",
       "      <td>GOOD SAMARITAN HOSPITAL</td>\n",
       "      <td>12972.0</td>\n",
       "    </tr>\n",
       "    <tr>\n",
       "      <th>2</th>\n",
       "      <td>METHODIST HOSPITAL</td>\n",
       "      <td>12076.0</td>\n",
       "    </tr>\n",
       "    <tr>\n",
       "      <th>3</th>\n",
       "      <td>CHRISTIANA CARE HEALTH SERVICES, INC.</td>\n",
       "      <td>11294.0</td>\n",
       "    </tr>\n",
       "    <tr>\n",
       "      <th>4</th>\n",
       "      <td>ST JOSEPH MEDICAL CENTER</td>\n",
       "      <td>10493.0</td>\n",
       "    </tr>\n",
       "  </tbody>\n",
       "</table>\n",
       "</div>"
      ],
      "text/plain": [
       "                           Hospital Name  num_disch\n",
       "0                       FLORIDA HOSPITAL    14138.0\n",
       "1                GOOD SAMARITAN HOSPITAL    12972.0\n",
       "2                     METHODIST HOSPITAL    12076.0\n",
       "3  CHRISTIANA CARE HEALTH SERVICES, INC.    11294.0\n",
       "4               ST JOSEPH MEDICAL CENTER    10493.0"
      ]
     },
     "execution_count": 132,
     "metadata": {},
     "output_type": "execute_result"
    }
   ],
   "source": [
    "#6 Which hospital name has the most discharges\n",
    "## Notes: Before you do this you'll need to change to a the number of discharges to a numeric variable\n",
    "##        Recall that 'float64'  is an option but pandas already has a to_numeric function\n",
    "##        In SAS you can use  new_variable = input(original_variable, informat.) or depending on your SQL flavor to_char\n",
    "##        courtesy: https://stackoverflow.com/questions/36874246/convert-a-column-in-pandas-dataframe-from-string-to-float\n",
    "\n",
    "df = life\n",
    "cols_to_convert = ['Number of Discharges', 'Expected Readmission Rate']\n",
    "cols_to_convert\n",
    "\n",
    "#  You'll have to iterate over each column in the newly defined data frame ('df') \n",
    "#  where columns that are converted come from cols_to_convert\n",
    "\n",
    "for col in cols_to_convert:\n",
    "    df[col] = pd.to_numeric(df[col], errors='coerce')\n",
    "    \n",
    "## Did it work?\n",
    "df.dtypes\n",
    "df.head(5)\n",
    "\n",
    "##Note: pandas group by + sum will only agregate based on float 64 variables (note I only converted 2) \n",
    "y = df.groupby('Hospital Name').sum()\n",
    "y = y.sort_values(cols_to_convert, ascending=False) \n",
    "y.head(5)\n",
    "\n",
    "##You can do this using pandas sql lib as well:\n",
    "#Same example as 1 but I am going to use SQL insteal \n",
    "q =\"\"\"SELECT  \"Hospital Name\", \n",
    "               sum(\"Number of Discharges\") as num_disch\n",
    "      FROM df \n",
    "      group by \"Hospital Name\"\n",
    "      order by  num_disch desc;\n",
    "  \"\"\"  \n",
    "df = pysqldf(q) \n",
    "df.head(5) "
   ]
  },
  {
   "cell_type": "code",
   "execution_count": null,
   "metadata": {
    "collapsed": true
   },
   "outputs": [],
   "source": []
  }
 ],
 "metadata": {
  "kernelspec": {
   "display_name": "Python 3",
   "language": "python",
   "name": "python3"
  },
  "language_info": {
   "codemirror_mode": {
    "name": "ipython",
    "version": 3
   },
   "file_extension": ".py",
   "mimetype": "text/x-python",
   "name": "python",
   "nbconvert_exporter": "python",
   "pygments_lexer": "ipython3",
   "version": "3.6.3"
  }
 },
 "nbformat": 4,
 "nbformat_minor": 2
}
