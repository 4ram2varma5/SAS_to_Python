{
 "cells": [
  {
   "cell_type": "markdown",
   "metadata": {},
   "source": [
    "### Filter, Sort, Merge and Create Data\n",
    "    1. Data Structures"
   ]
  },
  {
   "cell_type": "code",
   "execution_count": 5,
   "metadata": {
    "collapsed": true
   },
   "outputs": [],
   "source": [
    "#Import libraries\n",
    "from pandasql import sqldf #!pip install -U pandasql\n",
    "pysqldf = lambda q: sqldf(q, globals())\n",
    "from collections import Counter\n",
    "import pandas as pd #Pandas Lib\n",
    "import numpy as np  #NumPy Lib\n",
    "import matplotlib.pyplot as plt\n",
    "import urllib.request, json "
   ]
  },
  {
   "cell_type": "markdown",
   "metadata": {},
   "source": [
    "### Data set for all sections:\n",
    "Inpatient Prospective Payment System (IPPS) Provider Summary for the Top 100 Diagnosis-Related Groups (DRG) - FY2011Medicare - Inpatient\n",
    "\n",
    "~~~~\n",
    "Link: https://data.cms.gov/Medicare-Inpatient/Inpatient-Prospective-Payment-System-IPPS-Provider/97k6-zzx3\n",
    "~~~~\n",
    "\n",
    "Let's accees the data via Socrata Open Data API (SODA) which provides programmatic access to this dataset including the ability to filter, query, and aggregate data. The file on the server is JSON file and we will use urlib to access this."
   ]
  },
  {
   "cell_type": "code",
   "execution_count": 39,
   "metadata": {},
   "outputs": [
    {
     "data": {
      "text/html": [
       "<div>\n",
       "<style scoped>\n",
       "    .dataframe tbody tr th:only-of-type {\n",
       "        vertical-align: middle;\n",
       "    }\n",
       "\n",
       "    .dataframe tbody tr th {\n",
       "        vertical-align: top;\n",
       "    }\n",
       "\n",
       "    .dataframe thead th {\n",
       "        text-align: right;\n",
       "    }\n",
       "</style>\n",
       "<table border=\"1\" class=\"dataframe\">\n",
       "  <thead>\n",
       "    <tr style=\"text-align: right;\">\n",
       "      <th></th>\n",
       "      <th>average_covered_charges</th>\n",
       "      <th>average_medicare_payments</th>\n",
       "      <th>average_medicare_payments_2</th>\n",
       "      <th>drg_definition</th>\n",
       "      <th>hospital_referral_region_description</th>\n",
       "      <th>provider_city</th>\n",
       "      <th>provider_id</th>\n",
       "      <th>provider_name</th>\n",
       "      <th>provider_state</th>\n",
       "      <th>provider_street_address</th>\n",
       "      <th>provider_zip_code</th>\n",
       "      <th>total_discharges</th>\n",
       "    </tr>\n",
       "  </thead>\n",
       "  <tbody>\n",
       "    <tr>\n",
       "      <th>0</th>\n",
       "      <td>32963.07</td>\n",
       "      <td>5777.24</td>\n",
       "      <td>4763.73</td>\n",
       "      <td>039 - EXTRACRANIAL PROCEDURES W/O CC/MCC</td>\n",
       "      <td>AL - Dothan</td>\n",
       "      <td>DOTHAN</td>\n",
       "      <td>10001</td>\n",
       "      <td>SOUTHEAST ALABAMA MEDICAL CENTER</td>\n",
       "      <td>AL</td>\n",
       "      <td>1108 ROSS CLARK CIRCLE</td>\n",
       "      <td>36301</td>\n",
       "      <td>91</td>\n",
       "    </tr>\n",
       "    <tr>\n",
       "      <th>1</th>\n",
       "      <td>15131.85</td>\n",
       "      <td>5787.57</td>\n",
       "      <td>4976.71</td>\n",
       "      <td>039 - EXTRACRANIAL PROCEDURES W/O CC/MCC</td>\n",
       "      <td>AL - Birmingham</td>\n",
       "      <td>BOAZ</td>\n",
       "      <td>10005</td>\n",
       "      <td>MARSHALL MEDICAL CENTER SOUTH</td>\n",
       "      <td>AL</td>\n",
       "      <td>2505 U S HIGHWAY 431 NORTH</td>\n",
       "      <td>35957</td>\n",
       "      <td>14</td>\n",
       "    </tr>\n",
       "  </tbody>\n",
       "</table>\n",
       "</div>"
      ],
      "text/plain": [
       "  average_covered_charges average_medicare_payments  \\\n",
       "0                32963.07                   5777.24   \n",
       "1                15131.85                   5787.57   \n",
       "\n",
       "  average_medicare_payments_2                            drg_definition  \\\n",
       "0                     4763.73  039 - EXTRACRANIAL PROCEDURES W/O CC/MCC   \n",
       "1                     4976.71  039 - EXTRACRANIAL PROCEDURES W/O CC/MCC   \n",
       "\n",
       "  hospital_referral_region_description provider_city provider_id  \\\n",
       "0                          AL - Dothan        DOTHAN       10001   \n",
       "1                      AL - Birmingham          BOAZ       10005   \n",
       "\n",
       "                      provider_name provider_state  \\\n",
       "0  SOUTHEAST ALABAMA MEDICAL CENTER             AL   \n",
       "1     MARSHALL MEDICAL CENTER SOUTH             AL   \n",
       "\n",
       "      provider_street_address provider_zip_code total_discharges  \n",
       "0      1108 ROSS CLARK CIRCLE             36301               91  \n",
       "1  2505 U S HIGHWAY 431 NORTH             35957               14  "
      ]
     },
     "execution_count": 39,
     "metadata": {},
     "output_type": "execute_result"
    }
   ],
   "source": [
    "with urllib.request.urlopen(\"https://data.cms.gov/resource/ehrv-m9r6.json\") as url:\n",
    "    datax = json.loads(url.read().decode())\n",
    "df = pd.DataFrame(data=datax)\n",
    "df.head(2)"
   ]
  },
  {
   "cell_type": "code",
   "execution_count": null,
   "metadata": {
    "collapsed": true
   },
   "outputs": [],
   "source": []
  }
 ],
 "metadata": {
  "kernelspec": {
   "display_name": "Python 3",
   "language": "python",
   "name": "python3"
  },
  "language_info": {
   "codemirror_mode": {
    "name": "ipython",
    "version": 3
   },
   "file_extension": ".py",
   "mimetype": "text/x-python",
   "name": "python",
   "nbconvert_exporter": "python",
   "pygments_lexer": "ipython3",
   "version": "3.6.3"
  }
 },
 "nbformat": 4,
 "nbformat_minor": 2
}
