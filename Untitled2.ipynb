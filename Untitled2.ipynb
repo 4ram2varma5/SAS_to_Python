{
 "cells": [
  {
   "cell_type": "code",
   "execution_count": null,
   "metadata": {
    "collapsed": true
   },
   "outputs": [],
   "source": [
    "#6 Which hospital name has the most discharges\n",
    "\n",
    "#Note: pandas group by + sum will only agregate based on float 64 variables (note I only converted 2) \n",
    "y = df.groupby('Hospital Name').sum()\n",
    "y = y.sort_values(cols_to_convert, ascending=False) \n",
    "y.head(5)\n",
    "\n",
    "##You can do this using pandas sql lib as well:\n",
    "#Same example as 1 but I am going to use SQL insteal \n",
    "q =\"\"\"SELECT  \"Hospital Name\", \n",
    "               sum(\"Number of Discharges\") as num_disch\n",
    "      FROM df \n",
    "      group by \"Hospital Name\"\n",
    "      order by  num_disch desc;\n",
    "  \"\"\"  \n",
    "df = pysqldf(q) \n",
    "df.head(5) \n",
    "\n",
    "#7 Further Filteration on dates\n",
    "\n",
    "\n",
    "## Did it work?\n",
    "df.dtypes\n",
    "\n",
    "mask = (df['Start Date'] > '2012-06-01') & (df['Start Date'] <= '2014-10-31') \n",
    "\n",
    "df.loc[mask].head(5)"
   ]
  }
 ],
 "metadata": {
  "kernelspec": {
   "display_name": "Python 3",
   "language": "python",
   "name": "python3"
  },
  "language_info": {
   "codemirror_mode": {
    "name": "ipython",
    "version": 3
   },
   "file_extension": ".py",
   "mimetype": "text/x-python",
   "name": "python",
   "nbconvert_exporter": "python",
   "pygments_lexer": "ipython3",
   "version": "3.6.3"
  }
 },
 "nbformat": 4,
 "nbformat_minor": 2
}
