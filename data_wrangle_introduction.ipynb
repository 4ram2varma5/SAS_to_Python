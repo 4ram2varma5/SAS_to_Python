{
 "cells": [
  {
   "cell_type": "markdown",
   "metadata": {},
   "source": [
    "# Data Wrangle Introduction\n",
    "\n",
    "## Structure of Lessons\n",
    "***\n",
    "\n",
    "   ### Familiarize yourself with your Data\n",
    "    > 1. Python Libs\n",
    "    > - Reading Data into Python\n",
    "    > - Contents of data set(s)\n",
    "    > - First 'n' data records\n",
    "    > - Column & Row views \n",
    "    > - Converting variables (strings, numbers, etc.)\n",
    "    > - Data Dimmensions & Indexes\n",
    "    > - How to handle MISSING values\n",
    "    > - Drop Rows and Columns\n",
    "\n",
    "   ### Filter, Sort, Merge and Create Data\n",
    "\n",
    "   ###  Visualize your data\n",
    "\n",
    "***\n",
    "\n",
    "\n",
    "\n",
    "\n",
    "\n",
    "\n",
    "~~~\n",
    "You have the right to use the code on this site for your learning and documentation. \n",
    "However, selling or distributing significant portions of the code and writing on this site would require permission from author.\n",
    "~~~\n",
    "\n",
    "There is allot more to Python that is worth understanding and you can learn about concepts such as lists, dictionaries, etc.\n",
    "This attempt at providing a guide for SAS and SQL users is simply to help people, assuming the apriori Python knodledge is\n",
    "aquired first.\n",
    "As you read through my 'guide', I am certain there are smarter and better ways \n",
    "to do things and I appreciate any help or feedback. \n",
    "\n",
    "\n",
    "*About the author*: My name is **Ram** (Data Scientist). Please consider helping animals! \n",
    "\n",
    "\n"
   ]
  },
  {
   "cell_type": "code",
   "execution_count": null,
   "metadata": {
    "collapsed": true
   },
   "outputs": [],
   "source": []
  }
 ],
 "metadata": {
  "kernelspec": {
   "display_name": "Python 3",
   "language": "python",
   "name": "python3"
  },
  "language_info": {
   "codemirror_mode": {
    "name": "ipython",
    "version": 3
   },
   "file_extension": ".py",
   "mimetype": "text/x-python",
   "name": "python",
   "nbconvert_exporter": "python",
   "pygments_lexer": "ipython3",
   "version": "3.6.3"
  }
 },
 "nbformat": 4,
 "nbformat_minor": 2
}
