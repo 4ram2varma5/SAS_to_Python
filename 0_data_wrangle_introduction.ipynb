{
 "cells": [
  {
   "cell_type": "markdown",
   "metadata": {},
   "source": [
    "# Data Wrangle Introduction\n",
    "  \n",
    "## Structure of Lessons\n",
    "\n",
    "***\n",
    "\n",
    "   ### Familiarize yourself with your Data\n",
    "    1. Python Libs\n",
    "    2. Reading Data into Python\n",
    "    3. Contents of data set(s)\n",
    "    4. First 'n' data records\n",
    "    5. Column & Row views \n",
    "    6. Converting variables (strings, numbers, etc.)\n",
    "    7. Data Dimmensions & Indexes\n",
    "    8. How to handle MISSING values\n",
    "    9. Drop Rows and Columns\n",
    "    10.String Processing\n",
    "\n",
    "   ### Filter, Sort, Merge and Create Data\n",
    "    1. Data Structures\n",
    "    2. Sort this out!\n",
    "    3. Formats, Mappings, and Dictionaries\n",
    "    4. Filter\n",
    "    5. Merge and Joins\n",
    "    7. Create & Delete\n",
    "    8. Duplicates\n",
    "    \n",
    "    \n",
    "   ###  Agregate, Summarize and Group data\n",
    "    1. Simple Agregations\n",
    "    2. Group by\n",
    "    3. Agg () functions\n",
    "\n",
    "   ###  Visualize (If you can see it, you can believe it!)\n",
    "\n",
    "***\n",
    "*You have the right to use the code on this site for your learning and documentation. \n",
    "However, selling or distributing significant portions of the code and writing on this site would require permission from author.*\n",
    "***\n",
    "\n",
    "There is allot more to Python that is worth understanding and you can learn about concepts such as lists, dictionaries, etc.\n",
    "This attempt at providing a guide for SAS and SQL users is simply to help people, with the assumption that the apriori Python knodledge is\n",
    "aquired first.\n",
    "As you read through my 'guide', I am certain there are smarter and better ways \n",
    "to do things and I appreciate any help or feedback. \n",
    "\n",
    "\n",
    "*About the author*: My name is **Ram** (Data Scientist). Please consider helping animals! \n",
    "\n",
    "\n"
   ]
  },
  {
   "cell_type": "code",
   "execution_count": null,
   "metadata": {
    "collapsed": true
   },
   "outputs": [],
   "source": []
  }
 ],
 "metadata": {
  "kernelspec": {
   "display_name": "Python 3",
   "language": "python",
   "name": "python3"
  },
  "language_info": {
   "codemirror_mode": {
    "name": "ipython",
    "version": 3
   },
   "file_extension": ".py",
   "mimetype": "text/x-python",
   "name": "python",
   "nbconvert_exporter": "python",
   "pygments_lexer": "ipython3",
   "version": "3.6.3"
  }
 },
 "nbformat": 4,
 "nbformat_minor": 2
}
