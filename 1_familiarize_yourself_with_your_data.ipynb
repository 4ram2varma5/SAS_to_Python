{
 "cells": [
  {
   "cell_type": "markdown",
   "metadata": {},
   "source": [
    "### Familiarize yourself with your Data\n",
    "> 1. Python Libs\n",
    "> - Reading Data into Python\n",
    "> - Contents of data set(s)\n",
    "> - First 'n' data records\n",
    "> - Column & Row views \n",
    "> - Converting variables (strings, numbers, etc.)\n",
    "> - Data Dimmensions & Indexes\n",
    "> - How to handle MISSING values\n",
    "> - Drop Rows and Columns"
   ]
  },
  {
   "cell_type": "markdown",
   "metadata": {},
   "source": [
    "### 1. Python Libs\n",
    "\n",
    "SAS and SQL have procedures or functions available for you to use such as PROC’s in SAS and depending on your SQL flavor ‘partition over by.’ In Python, you’ll either need to write a function or import a library which has functions for your needs. It’s good practice to glance over the library documentation and use Google when you have questions. There is a plethora of information pertaining to library utilization including the code and examples. Unlike SAS and SQL, Python (& R) require you to install and import libs, which are essentially global and system macros OR functions.\n",
    "\n",
    "##### Some essential Python Libs:https://medium.com/activewizards-machine-learning-company/top-15-python-libraries-for-data-science-in-in-2017-ab61b4f9b4a7"
   ]
  },
  {
   "cell_type": "code",
   "execution_count": 4,
   "metadata": {
    "collapsed": true
   },
   "outputs": [],
   "source": [
    "from pandasql import sqldf #!pip install -U pandasql\n",
    "pysqldf = lambda q: sqldf(q, globals())\n",
    "from collections import Counter\n",
    "import pandas as pd #Pandas Lib\n",
    "import numpy as np  #NumPy Lib\n",
    "import matplotlib.pyplot as plt"
   ]
  },
  {
   "cell_type": "markdown",
   "metadata": {},
   "source": [
    "### 2. Reading Data into Python\n",
    "\n",
    "Though there are multiple data mediums and repositories, I only plan to cover one simple data source such as CSV. However, each lib has documentation on how to connect to RDBMS, Hadoop, or other environments.  \n",
    "\n",
    "- SAS:\n",
    "Uses 'proc import' with various options to accomplish the exact same things\n",
    "~~~\n",
    "proc import datafile=\"file.csv\"\n",
    "        out=something1\n",
    "        dbms=csv\n",
    "        replace;    \n",
    "        getnames=no;\n",
    "run;\n",
    "~~~\n",
    "\n",
    "- Hive & other SQL flavors: \n",
    "~~~~\n",
    "drop table something;\n",
    "CREATE TABLE something (TRANS_CONTROL_NUM string ,...) \n",
    "ROW FORMAT DELIMITED FIELDS TERMINATED BY ','; \n",
    "LOAD DATA INPATH \"path\" INTO TABLE something;\n",
    "~~~~\n",
    "\n",
    "*Working with RDBM*:  \n",
    "- https://www.dataquest.io/blog/python-pandas-databases/\n",
    "- https://pandas.pydata.org/pandas-docs/stable/generated/pandas.read_sql.html      "
   ]
  },
  {
   "cell_type": "code",
   "execution_count": null,
   "metadata": {
    "collapsed": true
   },
   "outputs": [],
   "source": [
    "#a) Create a CSV from an existing Data Frame ('save as' in a working directory)\n",
    "path = '/data01/readmits.csv' #you can simply put a working path in place of  '/data01/readmits.csv'\n",
    "df.to_csv(path)\n",
    "\n",
    "#b) Read a CSV \n",
    "df = pd.read_csv(path)\n",
    "\n",
    "#c) Read a CSV with no column names/headers\n",
    "df = pd.read_csv(path , header=None)\n",
    "\n",
    "#d) Read a CSV whilst defining column names\n",
    "df = pd.read_csv(path, names=['mem_id', 'admit_dt', 'discharge_dt', 'Age', 'ICD1_DX', 'dis_disp'])\n",
    "\n",
    "#e) Read while specifying \".\" for missing (there is a whole section on missing)\n",
    "df = pd.read_csv(path, na_values=['.']) #we usually use \".\" in SAS for numeric"
   ]
  },
  {
   "cell_type": "markdown",
   "metadata": {},
   "source": [
    "Let's read in our own data set from the plethora of data available on the Govt's website: \n",
    "\n",
    "*data owned and sourced from: https://www.data.gov/*"
   ]
  },
  {
   "cell_type": "code",
   "execution_count": 83,
   "metadata": {},
   "outputs": [],
   "source": [
    "url = \"https://data.medicare.gov/api/views/9n3s-kdb3/rows.csv?accessType=DOWNLOAD\" \n",
    "life = pd.read_csv(url)"
   ]
  },
  {
   "cell_type": "markdown",
   "metadata": {},
   "source": [
    "### 3. Contents of data set(s)\n",
    "\n",
    "If you recollect, in SAS you can view contents of data by simply using **'proc contents'** with options such as *'short'*. In Hive QL, you can use **'describe table'**. "
   ]
  },
  {
   "cell_type": "code",
   "execution_count": 18,
   "metadata": {},
   "outputs": [
    {
     "name": "stdout",
     "output_type": "stream",
     "text": [
      "Wall time: 0 ns\n",
      "<class 'pandas.core.frame.DataFrame'>\n",
      "RangeIndex: 19878 entries, 0 to 19877\n",
      "Data columns (total 12 columns):\n",
      "Hospital Name                 19878 non-null object\n",
      "Provider Number               19878 non-null int64\n",
      "State                         19878 non-null object\n",
      "Measure Name                  19878 non-null object\n",
      "Number of Discharges          19878 non-null object\n",
      "Footnote                      5563 non-null float64\n",
      "Excess Readmission Ratio      19878 non-null object\n",
      "Predicted Readmission Rate    19878 non-null object\n",
      "Expected Readmission Rate     19878 non-null object\n",
      "Number of Readmissions        19878 non-null object\n",
      "Start Date                    19878 non-null object\n",
      "End Date                      19878 non-null object\n",
      "dtypes: float64(1), int64(1), object(10)\n",
      "memory usage: 1.8+ MB\n"
     ]
    }
   ],
   "source": [
    "#curious how long this function might take (SAS and SQL provide this in the log)\n",
    "%time \n",
    "\n",
    "#Contents\n",
    "life.info()"
   ]
  },
  {
   "cell_type": "markdown",
   "metadata": {},
   "source": [
    "### 4. First 'n' data records\n",
    "\n",
    "In **SAS** we can accomplish this in many ways! I have illustrated three:\n",
    "- data see; set source (obs=5); run;\n",
    "- proc sql; select * from source (obs=5); quit; \n",
    "- you can also use monotonic to select n rows which relies on an index\n",
    "\n",
    "In **SQL** (flavor dependent): \n",
    "- Hive: select * from source limit 10;"
   ]
  },
  {
   "cell_type": "code",
   "execution_count": 22,
   "metadata": {},
   "outputs": [
    {
     "data": {
      "text/html": [
       "<div>\n",
       "<style scoped>\n",
       "    .dataframe tbody tr th:only-of-type {\n",
       "        vertical-align: middle;\n",
       "    }\n",
       "\n",
       "    .dataframe tbody tr th {\n",
       "        vertical-align: top;\n",
       "    }\n",
       "\n",
       "    .dataframe thead th {\n",
       "        text-align: right;\n",
       "    }\n",
       "</style>\n",
       "<table border=\"1\" class=\"dataframe\">\n",
       "  <thead>\n",
       "    <tr style=\"text-align: right;\">\n",
       "      <th></th>\n",
       "      <th>Hospital Name</th>\n",
       "      <th>Provider Number</th>\n",
       "      <th>State</th>\n",
       "      <th>Measure Name</th>\n",
       "      <th>Number of Discharges</th>\n",
       "      <th>Footnote</th>\n",
       "      <th>Excess Readmission Ratio</th>\n",
       "      <th>Predicted Readmission Rate</th>\n",
       "      <th>Expected Readmission Rate</th>\n",
       "      <th>Number of Readmissions</th>\n",
       "      <th>Start Date</th>\n",
       "      <th>End Date</th>\n",
       "    </tr>\n",
       "  </thead>\n",
       "  <tbody>\n",
       "    <tr>\n",
       "      <th>0</th>\n",
       "      <td>SOUTHEAST ALABAMA MEDICAL CENTER</td>\n",
       "      <td>10001</td>\n",
       "      <td>AL</td>\n",
       "      <td>READM-30-AMI-HRRP</td>\n",
       "      <td>781</td>\n",
       "      <td>NaN</td>\n",
       "      <td>0.9837</td>\n",
       "      <td>15.3580</td>\n",
       "      <td>15.6121</td>\n",
       "      <td>119</td>\n",
       "      <td>01-JUL-12</td>\n",
       "      <td>30-JUN-15</td>\n",
       "    </tr>\n",
       "    <tr>\n",
       "      <th>1</th>\n",
       "      <td>SOUTHEAST ALABAMA MEDICAL CENTER</td>\n",
       "      <td>10001</td>\n",
       "      <td>AL</td>\n",
       "      <td>READM-30-CABG-HRRP</td>\n",
       "      <td>273</td>\n",
       "      <td>NaN</td>\n",
       "      <td>1.0618</td>\n",
       "      <td>13.8887</td>\n",
       "      <td>13.0809</td>\n",
       "      <td>40</td>\n",
       "      <td>01-JUL-12</td>\n",
       "      <td>30-JUN-15</td>\n",
       "    </tr>\n",
       "  </tbody>\n",
       "</table>\n",
       "</div>"
      ],
      "text/plain": [
       "                      Hospital Name  Provider Number State  \\\n",
       "0  SOUTHEAST ALABAMA MEDICAL CENTER            10001    AL   \n",
       "1  SOUTHEAST ALABAMA MEDICAL CENTER            10001    AL   \n",
       "\n",
       "         Measure Name Number of Discharges  Footnote Excess Readmission Ratio  \\\n",
       "0   READM-30-AMI-HRRP                  781       NaN                   0.9837   \n",
       "1  READM-30-CABG-HRRP                  273       NaN                   1.0618   \n",
       "\n",
       "  Predicted Readmission Rate Expected Readmission Rate Number of Readmissions  \\\n",
       "0                    15.3580                   15.6121                    119   \n",
       "1                    13.8887                   13.0809                     40   \n",
       "\n",
       "  Start Date   End Date  \n",
       "0  01-JUL-12  30-JUN-15  \n",
       "1  01-JUL-12  30-JUN-15  "
      ]
     },
     "execution_count": 22,
     "metadata": {},
     "output_type": "execute_result"
    }
   ],
   "source": [
    "#print first 2 records\n",
    "life.head(2)"
   ]
  },
  {
   "cell_type": "code",
   "execution_count": 23,
   "metadata": {},
   "outputs": [
    {
     "data": {
      "text/html": [
       "<div>\n",
       "<style scoped>\n",
       "    .dataframe tbody tr th:only-of-type {\n",
       "        vertical-align: middle;\n",
       "    }\n",
       "\n",
       "    .dataframe tbody tr th {\n",
       "        vertical-align: top;\n",
       "    }\n",
       "\n",
       "    .dataframe thead th {\n",
       "        text-align: right;\n",
       "    }\n",
       "</style>\n",
       "<table border=\"1\" class=\"dataframe\">\n",
       "  <thead>\n",
       "    <tr style=\"text-align: right;\">\n",
       "      <th></th>\n",
       "      <th>Measure Name</th>\n",
       "      <th>Hospital Name</th>\n",
       "    </tr>\n",
       "  </thead>\n",
       "  <tbody>\n",
       "    <tr>\n",
       "      <th>0</th>\n",
       "      <td>READM-30-AMI-HRRP</td>\n",
       "      <td>SOUTHEAST ALABAMA MEDICAL CENTER</td>\n",
       "    </tr>\n",
       "    <tr>\n",
       "      <th>1</th>\n",
       "      <td>READM-30-CABG-HRRP</td>\n",
       "      <td>SOUTHEAST ALABAMA MEDICAL CENTER</td>\n",
       "    </tr>\n",
       "  </tbody>\n",
       "</table>\n",
       "</div>"
      ],
      "text/plain": [
       "         Measure Name                     Hospital Name\n",
       "0   READM-30-AMI-HRRP  SOUTHEAST ALABAMA MEDICAL CENTER\n",
       "1  READM-30-CABG-HRRP  SOUTHEAST ALABAMA MEDICAL CENTER"
      ]
     },
     "execution_count": 23,
     "metadata": {},
     "output_type": "execute_result"
    }
   ],
   "source": [
    "#Select specific columns to look at and the first 2 records\n",
    "life[['Measure Name', 'Hospital Name']].head(2)"
   ]
  },
  {
   "cell_type": "code",
   "execution_count": 25,
   "metadata": {},
   "outputs": [
    {
     "data": {
      "text/html": [
       "<div>\n",
       "<style scoped>\n",
       "    .dataframe tbody tr th:only-of-type {\n",
       "        vertical-align: middle;\n",
       "    }\n",
       "\n",
       "    .dataframe tbody tr th {\n",
       "        vertical-align: top;\n",
       "    }\n",
       "\n",
       "    .dataframe thead th {\n",
       "        text-align: right;\n",
       "    }\n",
       "</style>\n",
       "<table border=\"1\" class=\"dataframe\">\n",
       "  <thead>\n",
       "    <tr style=\"text-align: right;\">\n",
       "      <th></th>\n",
       "      <th>Hospital Name</th>\n",
       "      <th>Provider Number</th>\n",
       "      <th>State</th>\n",
       "      <th>Measure Name</th>\n",
       "      <th>Number of Discharges</th>\n",
       "      <th>Footnote</th>\n",
       "      <th>Excess Readmission Ratio</th>\n",
       "      <th>Predicted Readmission Rate</th>\n",
       "      <th>Expected Readmission Rate</th>\n",
       "      <th>Number of Readmissions</th>\n",
       "      <th>Start Date</th>\n",
       "      <th>End Date</th>\n",
       "    </tr>\n",
       "  </thead>\n",
       "  <tbody>\n",
       "    <tr>\n",
       "      <th>0</th>\n",
       "      <td>SOUTHEAST ALABAMA MEDICAL CENTER</td>\n",
       "      <td>10001</td>\n",
       "      <td>AL</td>\n",
       "      <td>READM-30-AMI-HRRP</td>\n",
       "      <td>781</td>\n",
       "      <td>NaN</td>\n",
       "      <td>0.9837</td>\n",
       "      <td>15.3580</td>\n",
       "      <td>15.6121</td>\n",
       "      <td>119</td>\n",
       "      <td>01-JUL-12</td>\n",
       "      <td>30-JUN-15</td>\n",
       "    </tr>\n",
       "    <tr>\n",
       "      <th>1</th>\n",
       "      <td>SOUTHEAST ALABAMA MEDICAL CENTER</td>\n",
       "      <td>10001</td>\n",
       "      <td>AL</td>\n",
       "      <td>READM-30-CABG-HRRP</td>\n",
       "      <td>273</td>\n",
       "      <td>NaN</td>\n",
       "      <td>1.0618</td>\n",
       "      <td>13.8887</td>\n",
       "      <td>13.0809</td>\n",
       "      <td>40</td>\n",
       "      <td>01-JUL-12</td>\n",
       "      <td>30-JUN-15</td>\n",
       "    </tr>\n",
       "  </tbody>\n",
       "</table>\n",
       "</div>"
      ],
      "text/plain": [
       "                      Hospital Name  Provider Number State  \\\n",
       "0  SOUTHEAST ALABAMA MEDICAL CENTER            10001    AL   \n",
       "1  SOUTHEAST ALABAMA MEDICAL CENTER            10001    AL   \n",
       "\n",
       "         Measure Name Number of Discharges  Footnote Excess Readmission Ratio  \\\n",
       "0   READM-30-AMI-HRRP                  781       NaN                   0.9837   \n",
       "1  READM-30-CABG-HRRP                  273       NaN                   1.0618   \n",
       "\n",
       "  Predicted Readmission Rate Expected Readmission Rate Number of Readmissions  \\\n",
       "0                    15.3580                   15.6121                    119   \n",
       "1                    13.8887                   13.0809                     40   \n",
       "\n",
       "  Start Date   End Date  \n",
       "0  01-JUL-12  30-JUN-15  \n",
       "1  01-JUL-12  30-JUN-15  "
      ]
     },
     "execution_count": 25,
     "metadata": {},
     "output_type": "execute_result"
    }
   ],
   "source": [
    "#View the first two records in a data set or matrix using an index approach\n",
    "life[:2]"
   ]
  },
  {
   "cell_type": "markdown",
   "metadata": {},
   "source": [
    "**Bonus:** *I thought it would be cool if we could:*\n",
    "- Find a SQL lib\n",
    "- Use the SQL lib to get the first 2 records\n",
    "- Assign it to a data frame"
   ]
  },
  {
   "cell_type": "code",
   "execution_count": 30,
   "metadata": {
    "scrolled": true
   },
   "outputs": [
    {
     "data": {
      "text/html": [
       "<div>\n",
       "<style scoped>\n",
       "    .dataframe tbody tr th:only-of-type {\n",
       "        vertical-align: middle;\n",
       "    }\n",
       "\n",
       "    .dataframe tbody tr th {\n",
       "        vertical-align: top;\n",
       "    }\n",
       "\n",
       "    .dataframe thead th {\n",
       "        text-align: right;\n",
       "    }\n",
       "</style>\n",
       "<table border=\"1\" class=\"dataframe\">\n",
       "  <thead>\n",
       "    <tr style=\"text-align: right;\">\n",
       "      <th></th>\n",
       "      <th>Hospital Name</th>\n",
       "      <th>Provider Number</th>\n",
       "      <th>State</th>\n",
       "      <th>Measure Name</th>\n",
       "      <th>Number of Discharges</th>\n",
       "      <th>Footnote</th>\n",
       "      <th>Excess Readmission Ratio</th>\n",
       "      <th>Predicted Readmission Rate</th>\n",
       "      <th>Expected Readmission Rate</th>\n",
       "      <th>Number of Readmissions</th>\n",
       "      <th>Start Date</th>\n",
       "      <th>End Date</th>\n",
       "    </tr>\n",
       "  </thead>\n",
       "  <tbody>\n",
       "    <tr>\n",
       "      <th>0</th>\n",
       "      <td>SOUTHEAST ALABAMA MEDICAL CENTER</td>\n",
       "      <td>10001</td>\n",
       "      <td>AL</td>\n",
       "      <td>READM-30-AMI-HRRP</td>\n",
       "      <td>781</td>\n",
       "      <td>None</td>\n",
       "      <td>0.9837</td>\n",
       "      <td>15.3580</td>\n",
       "      <td>15.6121</td>\n",
       "      <td>119</td>\n",
       "      <td>01-JUL-12</td>\n",
       "      <td>30-JUN-15</td>\n",
       "    </tr>\n",
       "    <tr>\n",
       "      <th>1</th>\n",
       "      <td>SOUTHEAST ALABAMA MEDICAL CENTER</td>\n",
       "      <td>10001</td>\n",
       "      <td>AL</td>\n",
       "      <td>READM-30-CABG-HRRP</td>\n",
       "      <td>273</td>\n",
       "      <td>None</td>\n",
       "      <td>1.0618</td>\n",
       "      <td>13.8887</td>\n",
       "      <td>13.0809</td>\n",
       "      <td>40</td>\n",
       "      <td>01-JUL-12</td>\n",
       "      <td>30-JUN-15</td>\n",
       "    </tr>\n",
       "  </tbody>\n",
       "</table>\n",
       "</div>"
      ],
      "text/plain": [
       "                      Hospital Name  Provider Number State  \\\n",
       "0  SOUTHEAST ALABAMA MEDICAL CENTER            10001    AL   \n",
       "1  SOUTHEAST ALABAMA MEDICAL CENTER            10001    AL   \n",
       "\n",
       "         Measure Name Number of Discharges Footnote Excess Readmission Ratio  \\\n",
       "0   READM-30-AMI-HRRP                  781     None                   0.9837   \n",
       "1  READM-30-CABG-HRRP                  273     None                   1.0618   \n",
       "\n",
       "  Predicted Readmission Rate Expected Readmission Rate Number of Readmissions  \\\n",
       "0                    15.3580                   15.6121                    119   \n",
       "1                    13.8887                   13.0809                     40   \n",
       "\n",
       "  Start Date   End Date  \n",
       "0  01-JUL-12  30-JUN-15  \n",
       "1  01-JUL-12  30-JUN-15  "
      ]
     },
     "execution_count": 30,
     "metadata": {},
     "output_type": "execute_result"
    }
   ],
   "source": [
    "qry =\"\"\"SELECT * FROM life limit 2;\"\"\"  \n",
    "df = pysqldf(qry) \n",
    "df"
   ]
  },
  {
   "cell_type": "markdown",
   "metadata": {},
   "source": [
    "### 5. Column & Row views \n",
    "\n",
    "You may want to see the contents of a specifc column or row and I could see this being used for tables that feed into process which iterates through each row. In SAS you could use CALL EXECUTE to iterate through a data set:\n",
    "~~~~\n",
    "data _NULL_;\n",
    "set call_rx_feed;\n",
    "call execute('%rx_pull('||_log_host||','||db_schema||','||db_path||')');\t\n",
    "run;\n",
    "~~~~\n",
    "\n"
   ]
  },
  {
   "cell_type": "code",
   "execution_count": 32,
   "metadata": {
    "collapsed": true
   },
   "outputs": [],
   "source": [
    "df = life"
   ]
  },
  {
   "cell_type": "code",
   "execution_count": 34,
   "metadata": {},
   "outputs": [
    {
     "data": {
      "text/plain": [
       "0    AL\n",
       "1    AL\n",
       "Name: State, dtype: object"
      ]
     },
     "execution_count": 34,
     "metadata": {},
     "output_type": "execute_result"
    }
   ],
   "source": [
    "#View a column\n",
    "df['State'].head(2)"
   ]
  },
  {
   "cell_type": "code",
   "execution_count": 38,
   "metadata": {},
   "outputs": [
    {
     "data": {
      "text/plain": [
       "AK      48\n",
       "AL     498\n",
       "AR     264\n",
       "AZ     384\n",
       "CA    1776\n",
       "Name: State, dtype: int64"
      ]
     },
     "execution_count": 38,
     "metadata": {},
     "output_type": "execute_result"
    }
   ],
   "source": [
    "#proc freq proc freq data=df; tables state / nocol nopercent nocum; run;\n",
    "x = df['State'].value_counts().sort_index()\n",
    "x.head()"
   ]
  },
  {
   "cell_type": "code",
   "execution_count": 41,
   "metadata": {},
   "outputs": [
    {
     "data": {
      "text/html": [
       "<div>\n",
       "<style scoped>\n",
       "    .dataframe tbody tr th:only-of-type {\n",
       "        vertical-align: middle;\n",
       "    }\n",
       "\n",
       "    .dataframe tbody tr th {\n",
       "        vertical-align: top;\n",
       "    }\n",
       "\n",
       "    .dataframe thead th {\n",
       "        text-align: right;\n",
       "    }\n",
       "</style>\n",
       "<table border=\"1\" class=\"dataframe\">\n",
       "  <thead>\n",
       "    <tr style=\"text-align: right;\">\n",
       "      <th></th>\n",
       "      <th>State</th>\n",
       "      <th>Provider Number</th>\n",
       "    </tr>\n",
       "  </thead>\n",
       "  <tbody>\n",
       "    <tr>\n",
       "      <th>0</th>\n",
       "      <td>AL</td>\n",
       "      <td>10001</td>\n",
       "    </tr>\n",
       "    <tr>\n",
       "      <th>1</th>\n",
       "      <td>AL</td>\n",
       "      <td>10001</td>\n",
       "    </tr>\n",
       "    <tr>\n",
       "      <th>2</th>\n",
       "      <td>AL</td>\n",
       "      <td>10001</td>\n",
       "    </tr>\n",
       "    <tr>\n",
       "      <th>3</th>\n",
       "      <td>AL</td>\n",
       "      <td>10001</td>\n",
       "    </tr>\n",
       "    <tr>\n",
       "      <th>4</th>\n",
       "      <td>AL</td>\n",
       "      <td>10001</td>\n",
       "    </tr>\n",
       "  </tbody>\n",
       "</table>\n",
       "</div>"
      ],
      "text/plain": [
       "  State  Provider Number\n",
       "0    AL            10001\n",
       "1    AL            10001\n",
       "2    AL            10001\n",
       "3    AL            10001\n",
       "4    AL            10001"
      ]
     },
     "execution_count": 41,
     "metadata": {},
     "output_type": "execute_result"
    }
   ],
   "source": [
    "#View 2+ columns\n",
    "df[['State', 'Provider Number']].head()"
   ]
  },
  {
   "cell_type": "code",
   "execution_count": 43,
   "metadata": {},
   "outputs": [
    {
     "data": {
      "text/plain": [
       "Hospital Name                 SOUTHEAST ALABAMA MEDICAL CENTER\n",
       "Provider Number                                          10001\n",
       "State                                                       AL\n",
       "Measure Name                                READM-30-CABG-HRRP\n",
       "Number of Discharges                                       273\n",
       "Footnote                                                   NaN\n",
       "Excess Readmission Ratio                                1.0618\n",
       "Predicted Readmission Rate                             13.8887\n",
       "Expected Readmission Rate                              13.0809\n",
       "Number of Readmissions                                      40\n",
       "Start Date                                           01-JUL-12\n",
       "End Date                                             30-JUN-15\n",
       "Name: 1, dtype: object"
      ]
     },
     "execution_count": 43,
     "metadata": {},
     "output_type": "execute_result"
    }
   ],
   "source": [
    "#View Row... not the best way but a demonstration\n",
    "df.ix[1]"
   ]
  },
  {
   "cell_type": "markdown",
   "metadata": {},
   "source": [
    "### 6. Converting variables (strings, numbers, etc.)\n",
    "\n",
    "**SAS**\n",
    ">Convert variable values from character to numeric or from numeric to character:\n",
    "\n",
    "* Character to numeric\n",
    "~~~~\n",
    "data new;\n",
    "   char_var = '12345678';\n",
    "   numeric_var = input(char_var, 8.);\n",
    "run;\n",
    "~~~~\n",
    "* Numeric to character\n",
    "~~~~\n",
    "new_variable = put(numeric_variable, format.);\n",
    "~~~~\n",
    "* Character to Date\n",
    "~~~~\n",
    "input(char_var,date9.);\n",
    "~~~~\n",
    "\n",
    "**HIVE**\n",
    "* STRING to a BIGINT\n",
    "~~~~\n",
    "SELECT CAST('00321' AS BIGINT) FROM table;\n",
    "~~~~\n",
    "* BIGINT to a STRING\n",
    "~~~~\n",
    "https://stackoverflow.com/questions/32576187/hive-converting-from-double-to-string-not-in-scientific\n",
    "~~~~\n",
    "* Character to Date\n",
    "~~~~\n",
    "from_unixtime(unix_timestamp(a.first_date_of_svc, 'yyyyMMdd'))\n",
    "~~~~"
   ]
  },
  {
   "cell_type": "code",
   "execution_count": 45,
   "metadata": {
    "collapsed": true
   },
   "outputs": [],
   "source": [
    "df = life\n",
    "cols_to_convert = ['Number of Discharges', 'Expected Readmission Rate']"
   ]
  },
  {
   "cell_type": "code",
   "execution_count": 46,
   "metadata": {},
   "outputs": [
    {
     "data": {
      "text/plain": [
       "Hospital Name                  object\n",
       "Provider Number                 int64\n",
       "State                          object\n",
       "Measure Name                   object\n",
       "Number of Discharges          float64\n",
       "Footnote                      float64\n",
       "Excess Readmission Ratio       object\n",
       "Predicted Readmission Rate     object\n",
       "Expected Readmission Rate     float64\n",
       "Number of Readmissions         object\n",
       "Start Date                     object\n",
       "End Date                       object\n",
       "dtype: object"
      ]
     },
     "execution_count": 46,
     "metadata": {},
     "output_type": "execute_result"
    }
   ],
   "source": [
    "#TO NUMERIC\n",
    "#  You'll have to iterate over each column in the newly defined data frame ('df') \n",
    "#  where columns that are converted come from cols_to_convert\n",
    "for col in cols_to_convert:\n",
    "    df[col] = pd.to_numeric(df[col], errors='coerce')\n",
    "#You can do ALL columns to numeric: df.apply(pd.to_numeric)\n",
    "## Did it work?\n",
    "df.dtypes"
   ]
  },
  {
   "cell_type": "code",
   "execution_count": 47,
   "metadata": {},
   "outputs": [
    {
     "data": {
      "text/plain": [
       "Hospital Name                  object\n",
       "Provider Number                 int64\n",
       "State                          object\n",
       "Measure Name                   object\n",
       "Number of Discharges           object\n",
       "Footnote                      float64\n",
       "Excess Readmission Ratio       object\n",
       "Predicted Readmission Rate     object\n",
       "Expected Readmission Rate      object\n",
       "Number of Readmissions         object\n",
       "Start Date                     object\n",
       "End Date                       object\n",
       "dtype: object"
      ]
     },
     "execution_count": 47,
     "metadata": {},
     "output_type": "execute_result"
    }
   ],
   "source": [
    "#TO CHARACTER\n",
    "# let's reverse this\n",
    "for col in cols_to_convert:\n",
    "    df[col] =  df[col].astype(str) \n",
    "## Did it work?\n",
    "df.dtypes"
   ]
  },
  {
   "cell_type": "code",
   "execution_count": null,
   "metadata": {
    "collapsed": true
   },
   "outputs": [],
   "source": [
    "df = life\n",
    "cols_to_convert = ['Start Date', 'End Date']"
   ]
  },
  {
   "cell_type": "code",
   "execution_count": 51,
   "metadata": {},
   "outputs": [
    {
     "data": {
      "text/plain": [
       "Hospital Name                         object\n",
       "Provider Number                        int64\n",
       "State                                 object\n",
       "Measure Name                          object\n",
       "Number of Discharges                  object\n",
       "Footnote                             float64\n",
       "Excess Readmission Ratio              object\n",
       "Predicted Readmission Rate            object\n",
       "Expected Readmission Rate             object\n",
       "Number of Readmissions                object\n",
       "Start Date                    datetime64[ns]\n",
       "End Date                      datetime64[ns]\n",
       "dtype: object"
      ]
     },
     "execution_count": 51,
     "metadata": {},
     "output_type": "execute_result"
    }
   ],
   "source": [
    "#TO DATE\n",
    "#  You'll have to iterate over each column in the newly defined data frame ('df') \n",
    "#  where columns that are converted come from cols_to_convert\n",
    "for col in cols_to_convert:\n",
    "    df[col] = pd.to_datetime(df[col], errors='coerce')   \n",
    "## Did it work?\n",
    "df.dtypes    "
   ]
  },
  {
   "cell_type": "markdown",
   "metadata": {},
   "source": [
    "### 7. Data Dimmensions & Indexes\n",
    "\n"
   ]
  },
  {
   "cell_type": "code",
   "execution_count": 52,
   "metadata": {},
   "outputs": [
    {
     "data": {
      "text/plain": [
       "12"
      ]
     },
     "execution_count": 52,
     "metadata": {},
     "output_type": "execute_result"
    }
   ],
   "source": [
    "# Number of Records\n",
    "life.shape[0] #Number of Rows\n",
    "life.shape[1] #Number of Columns"
   ]
  },
  {
   "cell_type": "code",
   "execution_count": 54,
   "metadata": {},
   "outputs": [
    {
     "data": {
      "text/html": [
       "<div>\n",
       "<style scoped>\n",
       "    .dataframe tbody tr th:only-of-type {\n",
       "        vertical-align: middle;\n",
       "    }\n",
       "\n",
       "    .dataframe tbody tr th {\n",
       "        vertical-align: top;\n",
       "    }\n",
       "\n",
       "    .dataframe thead th {\n",
       "        text-align: right;\n",
       "    }\n",
       "</style>\n",
       "<table border=\"1\" class=\"dataframe\">\n",
       "  <thead>\n",
       "    <tr style=\"text-align: right;\">\n",
       "      <th></th>\n",
       "      <th>Hospital Name</th>\n",
       "      <th>Provider Number</th>\n",
       "      <th>Measure Name</th>\n",
       "      <th>Number of Discharges</th>\n",
       "      <th>Footnote</th>\n",
       "      <th>Excess Readmission Ratio</th>\n",
       "      <th>Predicted Readmission Rate</th>\n",
       "      <th>Expected Readmission Rate</th>\n",
       "      <th>Number of Readmissions</th>\n",
       "      <th>Start Date</th>\n",
       "      <th>End Date</th>\n",
       "    </tr>\n",
       "    <tr>\n",
       "      <th>State</th>\n",
       "      <th></th>\n",
       "      <th></th>\n",
       "      <th></th>\n",
       "      <th></th>\n",
       "      <th></th>\n",
       "      <th></th>\n",
       "      <th></th>\n",
       "      <th></th>\n",
       "      <th></th>\n",
       "      <th></th>\n",
       "      <th></th>\n",
       "    </tr>\n",
       "  </thead>\n",
       "  <tbody>\n",
       "    <tr>\n",
       "      <th>AK</th>\n",
       "      <td>48</td>\n",
       "      <td>48</td>\n",
       "      <td>48</td>\n",
       "      <td>48</td>\n",
       "      <td>10</td>\n",
       "      <td>48</td>\n",
       "      <td>48</td>\n",
       "      <td>48</td>\n",
       "      <td>48</td>\n",
       "      <td>48</td>\n",
       "      <td>48</td>\n",
       "    </tr>\n",
       "    <tr>\n",
       "      <th>AL</th>\n",
       "      <td>498</td>\n",
       "      <td>498</td>\n",
       "      <td>498</td>\n",
       "      <td>498</td>\n",
       "      <td>164</td>\n",
       "      <td>498</td>\n",
       "      <td>498</td>\n",
       "      <td>498</td>\n",
       "      <td>498</td>\n",
       "      <td>498</td>\n",
       "      <td>498</td>\n",
       "    </tr>\n",
       "  </tbody>\n",
       "</table>\n",
       "</div>"
      ],
      "text/plain": [
       "       Hospital Name  Provider Number  Measure Name  Number of Discharges  \\\n",
       "State                                                                       \n",
       "AK                48               48            48                    48   \n",
       "AL               498              498           498                   498   \n",
       "\n",
       "       Footnote  Excess Readmission Ratio  Predicted Readmission Rate  \\\n",
       "State                                                                   \n",
       "AK           10                        48                          48   \n",
       "AL          164                       498                         498   \n",
       "\n",
       "       Expected Readmission Rate  Number of Readmissions  Start Date  End Date  \n",
       "State                                                                           \n",
       "AK                            48                      48          48        48  \n",
       "AL                           498                     498         498       498  "
      ]
     },
     "execution_count": 54,
     "metadata": {},
     "output_type": "execute_result"
    }
   ],
   "source": [
    "# Count the number of observations by STATE (unique hospitals)\n",
    "df=life.groupby('State').count()\n",
    "df.head(2)"
   ]
  },
  {
   "cell_type": "code",
   "execution_count": 55,
   "metadata": {},
   "outputs": [
    {
     "data": {
      "text/plain": [
       "'TX'"
      ]
     },
     "execution_count": 55,
     "metadata": {},
     "output_type": "execute_result"
    }
   ],
   "source": [
    "# which state (indexed) greatest number of discharges\n",
    "df['Number of Discharges'].idxmax()"
   ]
  },
  {
   "cell_type": "code",
   "execution_count": 56,
   "metadata": {},
   "outputs": [
    {
     "data": {
      "text/plain": [
       "array(['AL', 'AK', 'AZ', 'AR', 'CA', 'CO', 'CT', 'FL', 'DE', 'DC', 'GA',\n",
       "       'ID', 'HI', 'IL', 'IN', 'IA', 'KS', 'KY', 'LA', 'ME', 'MD', 'MA',\n",
       "       'MI', 'MN', 'MS', 'MO', 'MT', 'NE', 'NV', 'NH', 'NJ', 'NM', 'NY',\n",
       "       'NC', 'ND', 'OH', 'OK', 'OR', 'PA', 'RI', 'SC', 'SD', 'TN', 'TX',\n",
       "       'UT', 'VT', 'VA', 'WA', 'WV', 'WI', 'WY'], dtype=object)"
      ]
     },
     "execution_count": 56,
     "metadata": {},
     "output_type": "execute_result"
    }
   ],
   "source": [
    "# List Unique Values\n",
    "life['State'].unique() \n",
    "# Same as above\n",
    "x =life['State'].unique() \n",
    "x"
   ]
  },
  {
   "cell_type": "code",
   "execution_count": 60,
   "metadata": {},
   "outputs": [
    {
     "data": {
      "text/plain": [
       "RangeIndex(start=0, stop=19878, step=1)"
      ]
     },
     "execution_count": 60,
     "metadata": {},
     "output_type": "execute_result"
    }
   ],
   "source": [
    "#What is the data set indexed on?\n",
    "life.index"
   ]
  },
  {
   "cell_type": "code",
   "execution_count": 61,
   "metadata": {},
   "outputs": [
    {
     "data": {
      "text/plain": [
       "array(['AK', 'AL', 'AR', 'AZ', 'CA', 'CO', 'CT', 'DC', 'DE', 'FL', 'GA',\n",
       "       'HI', 'IA', 'ID', 'IL', 'IN', 'KS', 'KY', 'LA', 'MA', 'MD', 'ME',\n",
       "       'MI', 'MN', 'MO', 'MS', 'MT', 'NC', 'ND', 'NE', 'NH', 'NJ', 'NM',\n",
       "       'NV', 'NY', 'OH', 'OK', 'OR', 'PA', 'RI', 'SC', 'SD', 'TN', 'TX',\n",
       "       'UT', 'VA', 'VT', 'WA', 'WI', 'WV', 'WY'], dtype=object)"
      ]
     },
     "execution_count": 61,
     "metadata": {},
     "output_type": "execute_result"
    }
   ],
   "source": [
    "#What index values do we currently have for 'df'\n",
    "df.index.values"
   ]
  },
  {
   "cell_type": "markdown",
   "metadata": {},
   "source": [
    "### 8. How to handle MISSING \n",
    "\n",
    "Python:\n",
    "* isnull()  > generates a boolean mask to indicate missing values\n",
    "* notnull() > opposite of isnull()\n",
    "* dropna()  > returns a filtered version of the data\n",
    "* fillna()  > returns a copy of data with missing values filled or imputed\n"
   ]
  },
  {
   "cell_type": "markdown",
   "metadata": {},
   "source": [
    "## **'None'** \n",
    "cannot be used outside NumPy/Pandas and only in arrays/vectors with data type='object'"
   ]
  },
  {
   "cell_type": "code",
   "execution_count": 65,
   "metadata": {},
   "outputs": [
    {
     "data": {
      "text/plain": [
       "array([1, None, 3, None, 'B'], dtype=object)"
      ]
     },
     "execution_count": 65,
     "metadata": {},
     "output_type": "execute_result"
    }
   ],
   "source": [
    "none_dset = np.array([1, None, 3, None, 'B'])\n",
    "none_dset"
   ]
  },
  {
   "cell_type": "markdown",
   "metadata": {},
   "source": [
    "## **'NaN'** \n",
    "(acronym=Not a Number), is a floating-point value recognized by ALL systems"
   ]
  },
  {
   "cell_type": "code",
   "execution_count": 67,
   "metadata": {},
   "outputs": [
    {
     "data": {
      "text/plain": [
       "array([  1.,  nan,  nan,   1.,   1.,  nan,  nan,   1.])"
      ]
     },
     "execution_count": 67,
     "metadata": {},
     "output_type": "execute_result"
    }
   ],
   "source": [
    "nan_dset = np.array([1, np.nan, np.nan, 1] * 2) \n",
    "nan_dset"
   ]
  },
  {
   "cell_type": "markdown",
   "metadata": {},
   "source": [
    "## **'NaN'  & 'None'**\n",
    "can be used in both environments i.e. with Pandas/NumPy & Outside"
   ]
  },
  {
   "cell_type": "code",
   "execution_count": 68,
   "metadata": {},
   "outputs": [
    {
     "data": {
      "text/plain": [
       "0    1.0\n",
       "1    NaN\n",
       "2    2.0\n",
       "3    NaN\n",
       "dtype: float64"
      ]
     },
     "execution_count": 68,
     "metadata": {},
     "output_type": "execute_result"
    }
   ],
   "source": [
    "nan_none = pd.Series([1, np.nan, 2, None])\n",
    "nan_none"
   ]
  },
  {
   "cell_type": "markdown",
   "metadata": {},
   "source": [
    "## **isnull()**\n",
    "> generates a boolean mask to indicate missing values"
   ]
  },
  {
   "cell_type": "code",
   "execution_count": 95,
   "metadata": {},
   "outputs": [
    {
     "data": {
      "text/html": [
       "<div>\n",
       "<style scoped>\n",
       "    .dataframe tbody tr th:only-of-type {\n",
       "        vertical-align: middle;\n",
       "    }\n",
       "\n",
       "    .dataframe tbody tr th {\n",
       "        vertical-align: top;\n",
       "    }\n",
       "\n",
       "    .dataframe thead th {\n",
       "        text-align: right;\n",
       "    }\n",
       "</style>\n",
       "<table border=\"1\" class=\"dataframe\">\n",
       "  <thead>\n",
       "    <tr style=\"text-align: right;\">\n",
       "      <th></th>\n",
       "      <th>Hospital Name</th>\n",
       "      <th>Provider Number</th>\n",
       "      <th>State</th>\n",
       "      <th>Measure Name</th>\n",
       "      <th>Number of Discharges</th>\n",
       "      <th>Footnote</th>\n",
       "      <th>Excess Readmission Ratio</th>\n",
       "      <th>Predicted Readmission Rate</th>\n",
       "      <th>Expected Readmission Rate</th>\n",
       "      <th>Number of Readmissions</th>\n",
       "      <th>Start Date</th>\n",
       "      <th>End Date</th>\n",
       "    </tr>\n",
       "  </thead>\n",
       "  <tbody>\n",
       "    <tr>\n",
       "      <th>0</th>\n",
       "      <td>False</td>\n",
       "      <td>False</td>\n",
       "      <td>False</td>\n",
       "      <td>False</td>\n",
       "      <td>False</td>\n",
       "      <td>True</td>\n",
       "      <td>False</td>\n",
       "      <td>False</td>\n",
       "      <td>False</td>\n",
       "      <td>False</td>\n",
       "      <td>False</td>\n",
       "      <td>False</td>\n",
       "    </tr>\n",
       "    <tr>\n",
       "      <th>1</th>\n",
       "      <td>False</td>\n",
       "      <td>False</td>\n",
       "      <td>False</td>\n",
       "      <td>False</td>\n",
       "      <td>False</td>\n",
       "      <td>True</td>\n",
       "      <td>False</td>\n",
       "      <td>False</td>\n",
       "      <td>False</td>\n",
       "      <td>False</td>\n",
       "      <td>False</td>\n",
       "      <td>False</td>\n",
       "    </tr>\n",
       "    <tr>\n",
       "      <th>2</th>\n",
       "      <td>False</td>\n",
       "      <td>False</td>\n",
       "      <td>False</td>\n",
       "      <td>False</td>\n",
       "      <td>False</td>\n",
       "      <td>True</td>\n",
       "      <td>False</td>\n",
       "      <td>False</td>\n",
       "      <td>False</td>\n",
       "      <td>False</td>\n",
       "      <td>False</td>\n",
       "      <td>False</td>\n",
       "    </tr>\n",
       "    <tr>\n",
       "      <th>3</th>\n",
       "      <td>False</td>\n",
       "      <td>False</td>\n",
       "      <td>False</td>\n",
       "      <td>False</td>\n",
       "      <td>False</td>\n",
       "      <td>True</td>\n",
       "      <td>False</td>\n",
       "      <td>False</td>\n",
       "      <td>False</td>\n",
       "      <td>False</td>\n",
       "      <td>False</td>\n",
       "      <td>False</td>\n",
       "    </tr>\n",
       "    <tr>\n",
       "      <th>4</th>\n",
       "      <td>False</td>\n",
       "      <td>False</td>\n",
       "      <td>False</td>\n",
       "      <td>False</td>\n",
       "      <td>False</td>\n",
       "      <td>True</td>\n",
       "      <td>False</td>\n",
       "      <td>False</td>\n",
       "      <td>False</td>\n",
       "      <td>False</td>\n",
       "      <td>False</td>\n",
       "      <td>False</td>\n",
       "    </tr>\n",
       "  </tbody>\n",
       "</table>\n",
       "</div>"
      ],
      "text/plain": [
       "   Hospital Name  Provider Number  State  Measure Name  Number of Discharges  \\\n",
       "0          False            False  False         False                 False   \n",
       "1          False            False  False         False                 False   \n",
       "2          False            False  False         False                 False   \n",
       "3          False            False  False         False                 False   \n",
       "4          False            False  False         False                 False   \n",
       "\n",
       "   Footnote  Excess Readmission Ratio  Predicted Readmission Rate  \\\n",
       "0      True                     False                       False   \n",
       "1      True                     False                       False   \n",
       "2      True                     False                       False   \n",
       "3      True                     False                       False   \n",
       "4      True                     False                       False   \n",
       "\n",
       "   Expected Readmission Rate  Number of Readmissions  Start Date  End Date  \n",
       "0                      False                   False       False     False  \n",
       "1                      False                   False       False     False  \n",
       "2                      False                   False       False     False  \n",
       "3                      False                   False       False     False  \n",
       "4                      False                   False       False     False  "
      ]
     },
     "execution_count": 95,
     "metadata": {},
     "output_type": "execute_result"
    }
   ],
   "source": [
    "#Want to see how it's done in the background?\n",
    "df_null = life.isnull()\n",
    "df_null.head(5)"
   ]
  },
  {
   "cell_type": "code",
   "execution_count": 112,
   "metadata": {},
   "outputs": [
    {
     "data": {
      "text/plain": [
       "Hospital Name                     0\n",
       "Provider Number                   0\n",
       "State                             0\n",
       "Measure Name                      0\n",
       "Number of Discharges              0\n",
       "Footnote                      14315\n",
       "Excess Readmission Ratio          0\n",
       "Predicted Readmission Rate        0\n",
       "Expected Readmission Rate         0\n",
       "Number of Readmissions            0\n",
       "Start Date                        0\n",
       "End Date                          0\n",
       "dtype: int64"
      ]
     },
     "execution_count": 112,
     "metadata": {},
     "output_type": "execute_result"
    }
   ],
   "source": [
    "#Notice that only the numeric variables will give us results\n",
    "life.dtypes\n",
    "df = life\n",
    "\n",
    "#missing values in each column\n",
    "df.isnull().sum(axis=0)\n",
    "#OR\n",
    "df.isnull().sum()"
   ]
  },
  {
   "cell_type": "markdown",
   "metadata": {},
   "source": [
    "**Find the number of missing values**\n",
    "> Example in SAS\n",
    "~~~\n",
    "proc freq order=freq data=df;\n",
    "    tables 'State'/ nocol nopercent nocum missing;\n",
    "run;\n",
    "~~~"
   ]
  },
  {
   "cell_type": "code",
   "execution_count": 120,
   "metadata": {
    "scrolled": true
   },
   "outputs": [
    {
     "data": {
      "text/plain": [
       "TX    1878\n",
       "CA    1776\n",
       "FL    1014\n",
       "NY     918\n",
       "PA     900\n",
       "Name: State, dtype: int64"
      ]
     },
     "execution_count": 120,
     "metadata": {},
     "output_type": "execute_result"
    }
   ],
   "source": [
    "#Frequency specific columns\n",
    "df = life\n",
    "df['State'].value_counts(dropna=False).head(5)"
   ]
  },
  {
   "cell_type": "code",
   "execution_count": 119,
   "metadata": {},
   "outputs": [
    {
     "name": "stdout",
     "output_type": "stream",
     "text": [
      "Hospital Name~~Number of Missing Values >0\n",
      "Provider Number~~Number of Missing Values >0\n",
      "State~~Number of Missing Values >0\n",
      "Measure Name~~Number of Missing Values >0\n",
      "Number of Discharges~~Number of Missing Values >0\n",
      "Footnote~~Number of Missing Values >14315\n",
      "Excess Readmission Ratio~~Number of Missing Values >0\n",
      "Predicted Readmission Rate~~Number of Missing Values >0\n",
      "Expected Readmission Rate~~Number of Missing Values >0\n",
      "Number of Readmissions~~Number of Missing Values >0\n",
      "Start Date~~Number of Missing Values >0\n",
      "End Date~~Number of Missing Values >0\n"
     ]
    }
   ],
   "source": [
    "#Frequency all columns\n",
    "for x in life.columns:\n",
    "    print (x, end=\"~~Number of Missing Values >\")\n",
    "    print (sum(df[x].isnull()))"
   ]
  },
  {
   "cell_type": "markdown",
   "metadata": {},
   "source": [
    "## dropna()\n",
    "> which removes NA values and returns a filtered version of the data"
   ]
  },
  {
   "cell_type": "code",
   "execution_count": 122,
   "metadata": {},
   "outputs": [
    {
     "data": {
      "text/html": [
       "<div>\n",
       "<style scoped>\n",
       "    .dataframe tbody tr th:only-of-type {\n",
       "        vertical-align: middle;\n",
       "    }\n",
       "\n",
       "    .dataframe tbody tr th {\n",
       "        vertical-align: top;\n",
       "    }\n",
       "\n",
       "    .dataframe thead th {\n",
       "        text-align: right;\n",
       "    }\n",
       "</style>\n",
       "<table border=\"1\" class=\"dataframe\">\n",
       "  <thead>\n",
       "    <tr style=\"text-align: right;\">\n",
       "      <th></th>\n",
       "      <th>Hospital Name</th>\n",
       "      <th>Provider Number</th>\n",
       "      <th>State</th>\n",
       "      <th>Measure Name</th>\n",
       "      <th>Number of Discharges</th>\n",
       "      <th>Footnote</th>\n",
       "      <th>Excess Readmission Ratio</th>\n",
       "      <th>Predicted Readmission Rate</th>\n",
       "      <th>Expected Readmission Rate</th>\n",
       "      <th>Number of Readmissions</th>\n",
       "      <th>Start Date</th>\n",
       "      <th>End Date</th>\n",
       "    </tr>\n",
       "  </thead>\n",
       "  <tbody>\n",
       "    <tr>\n",
       "      <th>0</th>\n",
       "      <td>SOUTHEAST ALABAMA MEDICAL CENTER</td>\n",
       "      <td>10001</td>\n",
       "      <td>AL</td>\n",
       "      <td>READM-30-AMI-HRRP</td>\n",
       "      <td>781</td>\n",
       "      <td>NaN</td>\n",
       "      <td>0.9837</td>\n",
       "      <td>15.3580</td>\n",
       "      <td>15.6121</td>\n",
       "      <td>119</td>\n",
       "      <td>01-JUL-12</td>\n",
       "      <td>30-JUN-15</td>\n",
       "    </tr>\n",
       "    <tr>\n",
       "      <th>1</th>\n",
       "      <td>SOUTHEAST ALABAMA MEDICAL CENTER</td>\n",
       "      <td>10001</td>\n",
       "      <td>AL</td>\n",
       "      <td>READM-30-CABG-HRRP</td>\n",
       "      <td>273</td>\n",
       "      <td>NaN</td>\n",
       "      <td>1.0618</td>\n",
       "      <td>13.8887</td>\n",
       "      <td>13.0809</td>\n",
       "      <td>40</td>\n",
       "      <td>01-JUL-12</td>\n",
       "      <td>30-JUN-15</td>\n",
       "    </tr>\n",
       "  </tbody>\n",
       "</table>\n",
       "</div>"
      ],
      "text/plain": [
       "                      Hospital Name  Provider Number State  \\\n",
       "0  SOUTHEAST ALABAMA MEDICAL CENTER            10001    AL   \n",
       "1  SOUTHEAST ALABAMA MEDICAL CENTER            10001    AL   \n",
       "\n",
       "         Measure Name Number of Discharges  Footnote Excess Readmission Ratio  \\\n",
       "0   READM-30-AMI-HRRP                  781       NaN                   0.9837   \n",
       "1  READM-30-CABG-HRRP                  273       NaN                   1.0618   \n",
       "\n",
       "  Predicted Readmission Rate Expected Readmission Rate Number of Readmissions  \\\n",
       "0                    15.3580                   15.6121                    119   \n",
       "1                    13.8887                   13.0809                     40   \n",
       "\n",
       "  Start Date   End Date  \n",
       "0  01-JUL-12  30-JUN-15  \n",
       "1  01-JUL-12  30-JUN-15  "
      ]
     },
     "execution_count": 122,
     "metadata": {},
     "output_type": "execute_result"
    }
   ],
   "source": [
    "#Drop missing rows which have missing values\n",
    "df_no_missing = life.dropna()\n",
    "#Drop rows where all cells in that row is NA\n",
    "df_cleaned = life.dropna(how='all')\n",
    "df_cleaned.head(2)"
   ]
  },
  {
   "cell_type": "markdown",
   "metadata": {},
   "source": [
    "## fillna()  \n",
    "> returns a copy of data with missing values filled or imputed "
   ]
  },
  {
   "cell_type": "code",
   "execution_count": 125,
   "metadata": {},
   "outputs": [],
   "source": [
    "#Create a new column full of missing values or set it to something else number or string\n",
    "df=life"
   ]
  },
  {
   "cell_type": "code",
   "execution_count": 127,
   "metadata": {},
   "outputs": [
    {
     "data": {
      "text/html": [
       "<div>\n",
       "<style scoped>\n",
       "    .dataframe tbody tr th:only-of-type {\n",
       "        vertical-align: middle;\n",
       "    }\n",
       "\n",
       "    .dataframe tbody tr th {\n",
       "        vertical-align: top;\n",
       "    }\n",
       "\n",
       "    .dataframe thead th {\n",
       "        text-align: right;\n",
       "    }\n",
       "</style>\n",
       "<table border=\"1\" class=\"dataframe\">\n",
       "  <thead>\n",
       "    <tr style=\"text-align: right;\">\n",
       "      <th></th>\n",
       "      <th>Hospital Name</th>\n",
       "      <th>Provider Number</th>\n",
       "      <th>State</th>\n",
       "      <th>Measure Name</th>\n",
       "      <th>Number of Discharges</th>\n",
       "      <th>Footnote</th>\n",
       "      <th>Excess Readmission Ratio</th>\n",
       "      <th>Predicted Readmission Rate</th>\n",
       "      <th>Expected Readmission Rate</th>\n",
       "      <th>Number of Readmissions</th>\n",
       "      <th>Start Date</th>\n",
       "      <th>End Date</th>\n",
       "      <th>test_c</th>\n",
       "    </tr>\n",
       "  </thead>\n",
       "  <tbody>\n",
       "    <tr>\n",
       "      <th>0</th>\n",
       "      <td>SOUTHEAST ALABAMA MEDICAL CENTER</td>\n",
       "      <td>10001</td>\n",
       "      <td>AL</td>\n",
       "      <td>READM-30-AMI-HRRP</td>\n",
       "      <td>781</td>\n",
       "      <td>NaN</td>\n",
       "      <td>0.9837</td>\n",
       "      <td>15.3580</td>\n",
       "      <td>15.6121</td>\n",
       "      <td>119</td>\n",
       "      <td>01-JUL-12</td>\n",
       "      <td>30-JUN-15</td>\n",
       "      <td>Over</td>\n",
       "    </tr>\n",
       "    <tr>\n",
       "      <th>1</th>\n",
       "      <td>SOUTHEAST ALABAMA MEDICAL CENTER</td>\n",
       "      <td>10001</td>\n",
       "      <td>AL</td>\n",
       "      <td>READM-30-CABG-HRRP</td>\n",
       "      <td>273</td>\n",
       "      <td>NaN</td>\n",
       "      <td>1.0618</td>\n",
       "      <td>13.8887</td>\n",
       "      <td>13.0809</td>\n",
       "      <td>40</td>\n",
       "      <td>01-JUL-12</td>\n",
       "      <td>30-JUN-15</td>\n",
       "      <td>Over</td>\n",
       "    </tr>\n",
       "  </tbody>\n",
       "</table>\n",
       "</div>"
      ],
      "text/plain": [
       "                      Hospital Name  Provider Number State  \\\n",
       "0  SOUTHEAST ALABAMA MEDICAL CENTER            10001    AL   \n",
       "1  SOUTHEAST ALABAMA MEDICAL CENTER            10001    AL   \n",
       "\n",
       "         Measure Name Number of Discharges  Footnote Excess Readmission Ratio  \\\n",
       "0   READM-30-AMI-HRRP                  781       NaN                   0.9837   \n",
       "1  READM-30-CABG-HRRP                  273       NaN                   1.0618   \n",
       "\n",
       "  Predicted Readmission Rate Expected Readmission Rate Number of Readmissions  \\\n",
       "0                    15.3580                   15.6121                    119   \n",
       "1                    13.8887                   13.0809                     40   \n",
       "\n",
       "  Start Date   End Date test_c  \n",
       "0  01-JUL-12  30-JUN-15   Over  \n",
       "1  01-JUL-12  30-JUN-15   Over  "
      ]
     },
     "execution_count": 127,
     "metadata": {},
     "output_type": "execute_result"
    }
   ],
   "source": [
    "#with some value\n",
    "df['test_c'] = \"Over\"\n",
    "df.head(2)"
   ]
  },
  {
   "cell_type": "code",
   "execution_count": 128,
   "metadata": {
    "scrolled": true
   },
   "outputs": [
    {
     "data": {
      "text/html": [
       "<div>\n",
       "<style scoped>\n",
       "    .dataframe tbody tr th:only-of-type {\n",
       "        vertical-align: middle;\n",
       "    }\n",
       "\n",
       "    .dataframe tbody tr th {\n",
       "        vertical-align: top;\n",
       "    }\n",
       "\n",
       "    .dataframe thead th {\n",
       "        text-align: right;\n",
       "    }\n",
       "</style>\n",
       "<table border=\"1\" class=\"dataframe\">\n",
       "  <thead>\n",
       "    <tr style=\"text-align: right;\">\n",
       "      <th></th>\n",
       "      <th>Hospital Name</th>\n",
       "      <th>Provider Number</th>\n",
       "      <th>State</th>\n",
       "      <th>Measure Name</th>\n",
       "      <th>Number of Discharges</th>\n",
       "      <th>Footnote</th>\n",
       "      <th>Excess Readmission Ratio</th>\n",
       "      <th>Predicted Readmission Rate</th>\n",
       "      <th>Expected Readmission Rate</th>\n",
       "      <th>Number of Readmissions</th>\n",
       "      <th>Start Date</th>\n",
       "      <th>End Date</th>\n",
       "      <th>test_c</th>\n",
       "    </tr>\n",
       "  </thead>\n",
       "  <tbody>\n",
       "    <tr>\n",
       "      <th>0</th>\n",
       "      <td>SOUTHEAST ALABAMA MEDICAL CENTER</td>\n",
       "      <td>10001</td>\n",
       "      <td>AL</td>\n",
       "      <td>READM-30-AMI-HRRP</td>\n",
       "      <td>781</td>\n",
       "      <td>NaN</td>\n",
       "      <td>0.9837</td>\n",
       "      <td>15.3580</td>\n",
       "      <td>15.6121</td>\n",
       "      <td>119</td>\n",
       "      <td>01-JUL-12</td>\n",
       "      <td>30-JUN-15</td>\n",
       "      <td>NaN</td>\n",
       "    </tr>\n",
       "    <tr>\n",
       "      <th>1</th>\n",
       "      <td>SOUTHEAST ALABAMA MEDICAL CENTER</td>\n",
       "      <td>10001</td>\n",
       "      <td>AL</td>\n",
       "      <td>READM-30-CABG-HRRP</td>\n",
       "      <td>273</td>\n",
       "      <td>NaN</td>\n",
       "      <td>1.0618</td>\n",
       "      <td>13.8887</td>\n",
       "      <td>13.0809</td>\n",
       "      <td>40</td>\n",
       "      <td>01-JUL-12</td>\n",
       "      <td>30-JUN-15</td>\n",
       "      <td>NaN</td>\n",
       "    </tr>\n",
       "  </tbody>\n",
       "</table>\n",
       "</div>"
      ],
      "text/plain": [
       "                      Hospital Name  Provider Number State  \\\n",
       "0  SOUTHEAST ALABAMA MEDICAL CENTER            10001    AL   \n",
       "1  SOUTHEAST ALABAMA MEDICAL CENTER            10001    AL   \n",
       "\n",
       "         Measure Name Number of Discharges  Footnote Excess Readmission Ratio  \\\n",
       "0   READM-30-AMI-HRRP                  781       NaN                   0.9837   \n",
       "1  READM-30-CABG-HRRP                  273       NaN                   1.0618   \n",
       "\n",
       "  Predicted Readmission Rate Expected Readmission Rate Number of Readmissions  \\\n",
       "0                    15.3580                   15.6121                    119   \n",
       "1                    13.8887                   13.0809                     40   \n",
       "\n",
       "  Start Date   End Date  test_c  \n",
       "0  01-JUL-12  30-JUN-15     NaN  \n",
       "1  01-JUL-12  30-JUN-15     NaN  "
      ]
     },
     "execution_count": 128,
     "metadata": {},
     "output_type": "execute_result"
    }
   ],
   "source": [
    "#with NaN\n",
    "df=life\n",
    "df['test_c'] = np.nan\n",
    "df.head(2)"
   ]
  },
  {
   "cell_type": "code",
   "execution_count": 129,
   "metadata": {},
   "outputs": [
    {
     "data": {
      "text/html": [
       "<div>\n",
       "<style scoped>\n",
       "    .dataframe tbody tr th:only-of-type {\n",
       "        vertical-align: middle;\n",
       "    }\n",
       "\n",
       "    .dataframe tbody tr th {\n",
       "        vertical-align: top;\n",
       "    }\n",
       "\n",
       "    .dataframe thead th {\n",
       "        text-align: right;\n",
       "    }\n",
       "</style>\n",
       "<table border=\"1\" class=\"dataframe\">\n",
       "  <thead>\n",
       "    <tr style=\"text-align: right;\">\n",
       "      <th></th>\n",
       "      <th>Hospital Name</th>\n",
       "      <th>Provider Number</th>\n",
       "      <th>State</th>\n",
       "      <th>Measure Name</th>\n",
       "      <th>Number of Discharges</th>\n",
       "      <th>Footnote</th>\n",
       "      <th>Excess Readmission Ratio</th>\n",
       "      <th>Predicted Readmission Rate</th>\n",
       "      <th>Expected Readmission Rate</th>\n",
       "      <th>Number of Readmissions</th>\n",
       "      <th>Start Date</th>\n",
       "      <th>End Date</th>\n",
       "      <th>test_c</th>\n",
       "    </tr>\n",
       "  </thead>\n",
       "  <tbody>\n",
       "    <tr>\n",
       "      <th>0</th>\n",
       "      <td>SOUTHEAST ALABAMA MEDICAL CENTER</td>\n",
       "      <td>10001</td>\n",
       "      <td>AL</td>\n",
       "      <td>READM-30-AMI-HRRP</td>\n",
       "      <td>781</td>\n",
       "      <td>0.0</td>\n",
       "      <td>0.9837</td>\n",
       "      <td>15.3580</td>\n",
       "      <td>15.6121</td>\n",
       "      <td>119</td>\n",
       "      <td>01-JUL-12</td>\n",
       "      <td>30-JUN-15</td>\n",
       "      <td>0.0</td>\n",
       "    </tr>\n",
       "    <tr>\n",
       "      <th>1</th>\n",
       "      <td>SOUTHEAST ALABAMA MEDICAL CENTER</td>\n",
       "      <td>10001</td>\n",
       "      <td>AL</td>\n",
       "      <td>READM-30-CABG-HRRP</td>\n",
       "      <td>273</td>\n",
       "      <td>0.0</td>\n",
       "      <td>1.0618</td>\n",
       "      <td>13.8887</td>\n",
       "      <td>13.0809</td>\n",
       "      <td>40</td>\n",
       "      <td>01-JUL-12</td>\n",
       "      <td>30-JUN-15</td>\n",
       "      <td>0.0</td>\n",
       "    </tr>\n",
       "  </tbody>\n",
       "</table>\n",
       "</div>"
      ],
      "text/plain": [
       "                      Hospital Name  Provider Number State  \\\n",
       "0  SOUTHEAST ALABAMA MEDICAL CENTER            10001    AL   \n",
       "1  SOUTHEAST ALABAMA MEDICAL CENTER            10001    AL   \n",
       "\n",
       "         Measure Name Number of Discharges  Footnote Excess Readmission Ratio  \\\n",
       "0   READM-30-AMI-HRRP                  781       0.0                   0.9837   \n",
       "1  READM-30-CABG-HRRP                  273       0.0                   1.0618   \n",
       "\n",
       "  Predicted Readmission Rate Expected Readmission Rate Number of Readmissions  \\\n",
       "0                    15.3580                   15.6121                    119   \n",
       "1                    13.8887                   13.0809                     40   \n",
       "\n",
       "  Start Date   End Date  test_c  \n",
       "0  01-JUL-12  30-JUN-15     0.0  \n",
       "1  01-JUL-12  30-JUN-15     0.0  "
      ]
     },
     "execution_count": 129,
     "metadata": {},
     "output_type": "execute_result"
    }
   ],
   "source": [
    "#Fill in missing data with zeros\n",
    "df = df.fillna(0)\n",
    "df.head(2)"
   ]
  },
  {
   "cell_type": "markdown",
   "metadata": {},
   "source": [
    "## 9. Drop Rows and Columns\n",
    "\n",
    "- SAS: In SAS we can accomplish this by te **DROP** or **KEEP** statements\n",
    "- SQL: You can simply use a **SELECT** statement"
   ]
  },
  {
   "cell_type": "code",
   "execution_count": 131,
   "metadata": {},
   "outputs": [
    {
     "data": {
      "text/plain": [
       "19876"
      ]
     },
     "execution_count": 131,
     "metadata": {},
     "output_type": "execute_result"
    }
   ],
   "source": [
    "#Drop an record/row\n",
    "df=life\n",
    "df.shape[0] #Number of Rows 19878\n",
    "df.drop([1, 2]).shape[0] #Number of Rows 19878-2 = 19876"
   ]
  },
  {
   "cell_type": "code",
   "execution_count": 132,
   "metadata": {},
   "outputs": [
    {
     "data": {
      "text/plain": [
       "12"
      ]
     },
     "execution_count": 132,
     "metadata": {},
     "output_type": "execute_result"
    }
   ],
   "source": [
    "#Drop a variable (column) | axis=1 tells Python I am referring to a column\n",
    "df.shape[1] #Current Number of Columns = 13\n",
    "df.drop('State', axis=1).shape[1] #New Number of Columns = 12"
   ]
  },
  {
   "cell_type": "code",
   "execution_count": 134,
   "metadata": {},
   "outputs": [
    {
     "data": {
      "text/html": [
       "<div>\n",
       "<style scoped>\n",
       "    .dataframe tbody tr th:only-of-type {\n",
       "        vertical-align: middle;\n",
       "    }\n",
       "\n",
       "    .dataframe tbody tr th {\n",
       "        vertical-align: top;\n",
       "    }\n",
       "\n",
       "    .dataframe thead th {\n",
       "        text-align: right;\n",
       "    }\n",
       "</style>\n",
       "<table border=\"1\" class=\"dataframe\">\n",
       "  <thead>\n",
       "    <tr style=\"text-align: right;\">\n",
       "      <th></th>\n",
       "      <th>Hospital Name</th>\n",
       "      <th>Provider Number</th>\n",
       "      <th>State</th>\n",
       "      <th>Measure Name</th>\n",
       "      <th>Number of Discharges</th>\n",
       "      <th>Footnote</th>\n",
       "      <th>Excess Readmission Ratio</th>\n",
       "      <th>Predicted Readmission Rate</th>\n",
       "      <th>Expected Readmission Rate</th>\n",
       "      <th>Number of Readmissions</th>\n",
       "      <th>Start Date</th>\n",
       "      <th>End Date</th>\n",
       "      <th>test_c</th>\n",
       "    </tr>\n",
       "  </thead>\n",
       "  <tbody>\n",
       "    <tr>\n",
       "      <th>498</th>\n",
       "      <td>PROVIDENCE ALASKA MEDICAL CENTER</td>\n",
       "      <td>20001</td>\n",
       "      <td>AK</td>\n",
       "      <td>READM-30-AMI-HRRP</td>\n",
       "      <td>385</td>\n",
       "      <td>NaN</td>\n",
       "      <td>0.8867</td>\n",
       "      <td>12.9298</td>\n",
       "      <td>14.5825</td>\n",
       "      <td>43</td>\n",
       "      <td>01-JUL-12</td>\n",
       "      <td>30-JUN-15</td>\n",
       "      <td>NaN</td>\n",
       "    </tr>\n",
       "    <tr>\n",
       "      <th>499</th>\n",
       "      <td>PROVIDENCE ALASKA MEDICAL CENTER</td>\n",
       "      <td>20001</td>\n",
       "      <td>AK</td>\n",
       "      <td>READM-30-CABG-HRRP</td>\n",
       "      <td>Not Available</td>\n",
       "      <td>NaN</td>\n",
       "      <td>0.9064</td>\n",
       "      <td>12.0440</td>\n",
       "      <td>13.2870</td>\n",
       "      <td>Too Few to Report</td>\n",
       "      <td>01-JUL-12</td>\n",
       "      <td>30-JUN-15</td>\n",
       "      <td>NaN</td>\n",
       "    </tr>\n",
       "  </tbody>\n",
       "</table>\n",
       "</div>"
      ],
      "text/plain": [
       "                        Hospital Name  Provider Number State  \\\n",
       "498  PROVIDENCE ALASKA MEDICAL CENTER            20001    AK   \n",
       "499  PROVIDENCE ALASKA MEDICAL CENTER            20001    AK   \n",
       "\n",
       "           Measure Name Number of Discharges  Footnote  \\\n",
       "498   READM-30-AMI-HRRP                  385       NaN   \n",
       "499  READM-30-CABG-HRRP        Not Available       NaN   \n",
       "\n",
       "    Excess Readmission Ratio Predicted Readmission Rate  \\\n",
       "498                   0.8867                    12.9298   \n",
       "499                   0.9064                    12.0440   \n",
       "\n",
       "    Expected Readmission Rate Number of Readmissions Start Date   End Date  \\\n",
       "498                   14.5825                     43  01-JUL-12  30-JUN-15   \n",
       "499                   13.2870      Too Few to Report  01-JUL-12  30-JUN-15   \n",
       "\n",
       "     test_c  \n",
       "498     NaN  \n",
       "499     NaN  "
      ]
     },
     "execution_count": 134,
     "metadata": {},
     "output_type": "execute_result"
    }
   ],
   "source": [
    "#Drop records that contain a value like 'AL'\n",
    "df[df['State'] != 'AL'].head(2)"
   ]
  }
 ],
 "metadata": {
  "kernelspec": {
   "display_name": "Python 3",
   "language": "python",
   "name": "python3"
  },
  "language_info": {
   "codemirror_mode": {
    "name": "ipython",
    "version": 3
   },
   "file_extension": ".py",
   "mimetype": "text/x-python",
   "name": "python",
   "nbconvert_exporter": "python",
   "pygments_lexer": "ipython3",
   "version": "3.6.3"
  }
 },
 "nbformat": 4,
 "nbformat_minor": 2
}
